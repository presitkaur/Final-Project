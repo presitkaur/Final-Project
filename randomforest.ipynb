{
 "metadata": {
  "language_info": {
   "codemirror_mode": {
    "name": "ipython",
    "version": 3
   },
   "file_extension": ".py",
   "mimetype": "text/x-python",
   "name": "python",
   "nbconvert_exporter": "python",
   "pygments_lexer": "ipython3",
   "version": "3.9.2"
  },
  "orig_nbformat": 2,
  "kernelspec": {
   "name": "python392jvsc74a57bd063fd5069d213b44bf678585dea6b12cceca9941eaf7f819626cde1f2670de90d",
   "display_name": "Python 3.9.2 64-bit"
  },
  "metadata": {
   "interpreter": {
    "hash": "63fd5069d213b44bf678585dea6b12cceca9941eaf7f819626cde1f2670de90d"
   }
  }
 },
 "nbformat": 4,
 "nbformat_minor": 2,
 "cells": [
  {
   "cell_type": "code",
   "execution_count": 105,
   "metadata": {},
   "outputs": [],
   "source": [
    "from sklearn import tree\n",
    "import pandas as pd \n",
    "import numpy as np"
   ]
  },
  {
   "cell_type": "code",
   "execution_count": 106,
   "metadata": {},
   "outputs": [
    {
     "output_type": "execute_result",
     "data": {
      "text/plain": [
       "                                        Title    Year           Publisher  \\\n",
       "0                          Grand Theft Auto V  2014.0       RockstarNorth   \n",
       "1                          Grand Theft Auto V  2014.0       RockstarNorth   \n",
       "2                          Grand Theft Auto V  2015.0       RockstarNorth   \n",
       "3     The Legend of Zelda: Breath of the Wild  2017.0            Nintendo   \n",
       "4                   The Last of Us Remastered  2014.0          NaughtyDog   \n",
       "...                                       ...     ...                 ...   \n",
       "1286                                     Furi  2016.0       TheGameBakers   \n",
       "1287                                Element4l  2013.0         i-illusions   \n",
       "1288                                Anomaly 2  2013.0        11bitstudios   \n",
       "1289                                Outlast 2  2017.0          RedBarrels   \n",
       "1290            Valiant Hearts: The Great War  2014.0  UbisoftMontpellier   \n",
       "\n",
       "                                                  Genre      Platform  \\\n",
       "0                    Action Adventure;Modern;Open-World       XboxOne   \n",
       "1                    Action Adventure;Modern;Open-World  PlayStation4   \n",
       "2                    Modern;Action Adventure;Open-World            PC   \n",
       "3           Fantasy;Fantasy;Action Adventure;Open-World          WiiU   \n",
       "4                       Action Adventure;General;Modern  PlayStation4   \n",
       "...                                                 ...           ...   \n",
       "1286                                 Action;Fighting;3D       XboxOne   \n",
       "1287                 Action;Platformer;Platformer;2D;2D            PC   \n",
       "1288  Action;Strategy;General;Real-Time;Sci-Fi;Sci-F...            PC   \n",
       "1289                          Action Adventure;Survival       XboxOne   \n",
       "1290                 Platformer;2D;Action;Platformer;2D  PlayStation4   \n",
       "\n",
       "      Metascore  Avg_Userscore             No_Players  \n",
       "0          97.0            7.8              Up to 30   \n",
       "1          97.0            8.3              Up to 30   \n",
       "2          96.0            7.7              Up to 32   \n",
       "3          96.0            8.2  No Online Multiplayer  \n",
       "4          95.0            9.1               Up to 8   \n",
       "...         ...            ...                    ...  \n",
       "1286       77.0            7.6          not specified  \n",
       "1287       77.0            7.7          not specified  \n",
       "1288       77.0            7.9          not specified  \n",
       "1289       77.0            6.5          not specified  \n",
       "1290       77.0            8.4          not specified  \n",
       "\n",
       "[1291 rows x 8 columns]"
      ],
      "text/html": "<div>\n<style scoped>\n    .dataframe tbody tr th:only-of-type {\n        vertical-align: middle;\n    }\n\n    .dataframe tbody tr th {\n        vertical-align: top;\n    }\n\n    .dataframe thead th {\n        text-align: right;\n    }\n</style>\n<table border=\"1\" class=\"dataframe\">\n  <thead>\n    <tr style=\"text-align: right;\">\n      <th></th>\n      <th>Title</th>\n      <th>Year</th>\n      <th>Publisher</th>\n      <th>Genre</th>\n      <th>Platform</th>\n      <th>Metascore</th>\n      <th>Avg_Userscore</th>\n      <th>No_Players</th>\n    </tr>\n  </thead>\n  <tbody>\n    <tr>\n      <th>0</th>\n      <td>Grand Theft Auto V</td>\n      <td>2014.0</td>\n      <td>RockstarNorth</td>\n      <td>Action Adventure;Modern;Open-World</td>\n      <td>XboxOne</td>\n      <td>97.0</td>\n      <td>7.8</td>\n      <td>Up to 30</td>\n    </tr>\n    <tr>\n      <th>1</th>\n      <td>Grand Theft Auto V</td>\n      <td>2014.0</td>\n      <td>RockstarNorth</td>\n      <td>Action Adventure;Modern;Open-World</td>\n      <td>PlayStation4</td>\n      <td>97.0</td>\n      <td>8.3</td>\n      <td>Up to 30</td>\n    </tr>\n    <tr>\n      <th>2</th>\n      <td>Grand Theft Auto V</td>\n      <td>2015.0</td>\n      <td>RockstarNorth</td>\n      <td>Modern;Action Adventure;Open-World</td>\n      <td>PC</td>\n      <td>96.0</td>\n      <td>7.7</td>\n      <td>Up to 32</td>\n    </tr>\n    <tr>\n      <th>3</th>\n      <td>The Legend of Zelda: Breath of the Wild</td>\n      <td>2017.0</td>\n      <td>Nintendo</td>\n      <td>Fantasy;Fantasy;Action Adventure;Open-World</td>\n      <td>WiiU</td>\n      <td>96.0</td>\n      <td>8.2</td>\n      <td>No Online Multiplayer</td>\n    </tr>\n    <tr>\n      <th>4</th>\n      <td>The Last of Us Remastered</td>\n      <td>2014.0</td>\n      <td>NaughtyDog</td>\n      <td>Action Adventure;General;Modern</td>\n      <td>PlayStation4</td>\n      <td>95.0</td>\n      <td>9.1</td>\n      <td>Up to 8</td>\n    </tr>\n    <tr>\n      <th>...</th>\n      <td>...</td>\n      <td>...</td>\n      <td>...</td>\n      <td>...</td>\n      <td>...</td>\n      <td>...</td>\n      <td>...</td>\n      <td>...</td>\n    </tr>\n    <tr>\n      <th>1286</th>\n      <td>Furi</td>\n      <td>2016.0</td>\n      <td>TheGameBakers</td>\n      <td>Action;Fighting;3D</td>\n      <td>XboxOne</td>\n      <td>77.0</td>\n      <td>7.6</td>\n      <td>not specified</td>\n    </tr>\n    <tr>\n      <th>1287</th>\n      <td>Element4l</td>\n      <td>2013.0</td>\n      <td>i-illusions</td>\n      <td>Action;Platformer;Platformer;2D;2D</td>\n      <td>PC</td>\n      <td>77.0</td>\n      <td>7.7</td>\n      <td>not specified</td>\n    </tr>\n    <tr>\n      <th>1288</th>\n      <td>Anomaly 2</td>\n      <td>2013.0</td>\n      <td>11bitstudios</td>\n      <td>Action;Strategy;General;Real-Time;Sci-Fi;Sci-F...</td>\n      <td>PC</td>\n      <td>77.0</td>\n      <td>7.9</td>\n      <td>not specified</td>\n    </tr>\n    <tr>\n      <th>1289</th>\n      <td>Outlast 2</td>\n      <td>2017.0</td>\n      <td>RedBarrels</td>\n      <td>Action Adventure;Survival</td>\n      <td>XboxOne</td>\n      <td>77.0</td>\n      <td>6.5</td>\n      <td>not specified</td>\n    </tr>\n    <tr>\n      <th>1290</th>\n      <td>Valiant Hearts: The Great War</td>\n      <td>2014.0</td>\n      <td>UbisoftMontpellier</td>\n      <td>Platformer;2D;Action;Platformer;2D</td>\n      <td>PlayStation4</td>\n      <td>77.0</td>\n      <td>8.4</td>\n      <td>not specified</td>\n    </tr>\n  </tbody>\n</table>\n<p>1291 rows × 8 columns</p>\n</div>"
     },
     "metadata": {},
     "execution_count": 106
    }
   ],
   "source": [
    "df = pd.read_csv(\"cleaned_data/infoML.csv\")\n",
    "df"
   ]
  },
  {
   "cell_type": "code",
   "execution_count": 107,
   "metadata": {},
   "outputs": [],
   "source": [
    "df[[\"Main_Genre\"]] = df.Genre.str.split(\";\", expand=True)[0]"
   ]
  },
  {
   "cell_type": "code",
   "execution_count": 108,
   "metadata": {},
   "outputs": [
    {
     "output_type": "execute_result",
     "data": {
      "text/plain": [
       "                                        Title    Year           Publisher  \\\n",
       "0                          Grand Theft Auto V  2014.0       RockstarNorth   \n",
       "1                          Grand Theft Auto V  2014.0       RockstarNorth   \n",
       "2                          Grand Theft Auto V  2015.0       RockstarNorth   \n",
       "3     The Legend of Zelda: Breath of the Wild  2017.0            Nintendo   \n",
       "4                   The Last of Us Remastered  2014.0          NaughtyDog   \n",
       "...                                       ...     ...                 ...   \n",
       "1286                                     Furi  2016.0       TheGameBakers   \n",
       "1287                                Element4l  2013.0         i-illusions   \n",
       "1288                                Anomaly 2  2013.0        11bitstudios   \n",
       "1289                                Outlast 2  2017.0          RedBarrels   \n",
       "1290            Valiant Hearts: The Great War  2014.0  UbisoftMontpellier   \n",
       "\n",
       "                                                  Genre      Platform  \\\n",
       "0                    Action Adventure;Modern;Open-World       XboxOne   \n",
       "1                    Action Adventure;Modern;Open-World  PlayStation4   \n",
       "2                    Modern;Action Adventure;Open-World            PC   \n",
       "3           Fantasy;Fantasy;Action Adventure;Open-World          WiiU   \n",
       "4                       Action Adventure;General;Modern  PlayStation4   \n",
       "...                                                 ...           ...   \n",
       "1286                                 Action;Fighting;3D       XboxOne   \n",
       "1287                 Action;Platformer;Platformer;2D;2D            PC   \n",
       "1288  Action;Strategy;General;Real-Time;Sci-Fi;Sci-F...            PC   \n",
       "1289                          Action Adventure;Survival       XboxOne   \n",
       "1290                 Platformer;2D;Action;Platformer;2D  PlayStation4   \n",
       "\n",
       "      Metascore  Avg_Userscore             No_Players        Main_Genre  score  \n",
       "0          97.0            7.8              Up to 30   Action Adventure      1  \n",
       "1          97.0            8.3              Up to 30   Action Adventure      1  \n",
       "2          96.0            7.7              Up to 32             Modern      1  \n",
       "3          96.0            8.2  No Online Multiplayer           Fantasy      1  \n",
       "4          95.0            9.1               Up to 8   Action Adventure      1  \n",
       "...         ...            ...                    ...               ...    ...  \n",
       "1286       77.0            7.6          not specified            Action      1  \n",
       "1287       77.0            7.7          not specified            Action      1  \n",
       "1288       77.0            7.9          not specified            Action      1  \n",
       "1289       77.0            6.5          not specified  Action Adventure      0  \n",
       "1290       77.0            8.4          not specified        Platformer      1  \n",
       "\n",
       "[1291 rows x 10 columns]"
      ],
      "text/html": "<div>\n<style scoped>\n    .dataframe tbody tr th:only-of-type {\n        vertical-align: middle;\n    }\n\n    .dataframe tbody tr th {\n        vertical-align: top;\n    }\n\n    .dataframe thead th {\n        text-align: right;\n    }\n</style>\n<table border=\"1\" class=\"dataframe\">\n  <thead>\n    <tr style=\"text-align: right;\">\n      <th></th>\n      <th>Title</th>\n      <th>Year</th>\n      <th>Publisher</th>\n      <th>Genre</th>\n      <th>Platform</th>\n      <th>Metascore</th>\n      <th>Avg_Userscore</th>\n      <th>No_Players</th>\n      <th>Main_Genre</th>\n      <th>score</th>\n    </tr>\n  </thead>\n  <tbody>\n    <tr>\n      <th>0</th>\n      <td>Grand Theft Auto V</td>\n      <td>2014.0</td>\n      <td>RockstarNorth</td>\n      <td>Action Adventure;Modern;Open-World</td>\n      <td>XboxOne</td>\n      <td>97.0</td>\n      <td>7.8</td>\n      <td>Up to 30</td>\n      <td>Action Adventure</td>\n      <td>1</td>\n    </tr>\n    <tr>\n      <th>1</th>\n      <td>Grand Theft Auto V</td>\n      <td>2014.0</td>\n      <td>RockstarNorth</td>\n      <td>Action Adventure;Modern;Open-World</td>\n      <td>PlayStation4</td>\n      <td>97.0</td>\n      <td>8.3</td>\n      <td>Up to 30</td>\n      <td>Action Adventure</td>\n      <td>1</td>\n    </tr>\n    <tr>\n      <th>2</th>\n      <td>Grand Theft Auto V</td>\n      <td>2015.0</td>\n      <td>RockstarNorth</td>\n      <td>Modern;Action Adventure;Open-World</td>\n      <td>PC</td>\n      <td>96.0</td>\n      <td>7.7</td>\n      <td>Up to 32</td>\n      <td>Modern</td>\n      <td>1</td>\n    </tr>\n    <tr>\n      <th>3</th>\n      <td>The Legend of Zelda: Breath of the Wild</td>\n      <td>2017.0</td>\n      <td>Nintendo</td>\n      <td>Fantasy;Fantasy;Action Adventure;Open-World</td>\n      <td>WiiU</td>\n      <td>96.0</td>\n      <td>8.2</td>\n      <td>No Online Multiplayer</td>\n      <td>Fantasy</td>\n      <td>1</td>\n    </tr>\n    <tr>\n      <th>4</th>\n      <td>The Last of Us Remastered</td>\n      <td>2014.0</td>\n      <td>NaughtyDog</td>\n      <td>Action Adventure;General;Modern</td>\n      <td>PlayStation4</td>\n      <td>95.0</td>\n      <td>9.1</td>\n      <td>Up to 8</td>\n      <td>Action Adventure</td>\n      <td>1</td>\n    </tr>\n    <tr>\n      <th>...</th>\n      <td>...</td>\n      <td>...</td>\n      <td>...</td>\n      <td>...</td>\n      <td>...</td>\n      <td>...</td>\n      <td>...</td>\n      <td>...</td>\n      <td>...</td>\n      <td>...</td>\n    </tr>\n    <tr>\n      <th>1286</th>\n      <td>Furi</td>\n      <td>2016.0</td>\n      <td>TheGameBakers</td>\n      <td>Action;Fighting;3D</td>\n      <td>XboxOne</td>\n      <td>77.0</td>\n      <td>7.6</td>\n      <td>not specified</td>\n      <td>Action</td>\n      <td>1</td>\n    </tr>\n    <tr>\n      <th>1287</th>\n      <td>Element4l</td>\n      <td>2013.0</td>\n      <td>i-illusions</td>\n      <td>Action;Platformer;Platformer;2D;2D</td>\n      <td>PC</td>\n      <td>77.0</td>\n      <td>7.7</td>\n      <td>not specified</td>\n      <td>Action</td>\n      <td>1</td>\n    </tr>\n    <tr>\n      <th>1288</th>\n      <td>Anomaly 2</td>\n      <td>2013.0</td>\n      <td>11bitstudios</td>\n      <td>Action;Strategy;General;Real-Time;Sci-Fi;Sci-F...</td>\n      <td>PC</td>\n      <td>77.0</td>\n      <td>7.9</td>\n      <td>not specified</td>\n      <td>Action</td>\n      <td>1</td>\n    </tr>\n    <tr>\n      <th>1289</th>\n      <td>Outlast 2</td>\n      <td>2017.0</td>\n      <td>RedBarrels</td>\n      <td>Action Adventure;Survival</td>\n      <td>XboxOne</td>\n      <td>77.0</td>\n      <td>6.5</td>\n      <td>not specified</td>\n      <td>Action Adventure</td>\n      <td>0</td>\n    </tr>\n    <tr>\n      <th>1290</th>\n      <td>Valiant Hearts: The Great War</td>\n      <td>2014.0</td>\n      <td>UbisoftMontpellier</td>\n      <td>Platformer;2D;Action;Platformer;2D</td>\n      <td>PlayStation4</td>\n      <td>77.0</td>\n      <td>8.4</td>\n      <td>not specified</td>\n      <td>Platformer</td>\n      <td>1</td>\n    </tr>\n  </tbody>\n</table>\n<p>1291 rows × 10 columns</p>\n</div>"
     },
     "metadata": {},
     "execution_count": 108
    }
   ],
   "source": [
    "df[\"score\"] = np.where(df['Avg_Userscore'] >=7, 1,0)\n",
    "df"
   ]
  },
  {
   "cell_type": "code",
   "execution_count": 109,
   "metadata": {},
   "outputs": [
    {
     "output_type": "execute_result",
     "data": {
      "text/plain": [
       "score_0  score_1\n",
       "0        1          942\n",
       "1        0          349\n",
       "dtype: int64"
      ]
     },
     "metadata": {},
     "execution_count": 109
    }
   ],
   "source": [
    "ohc = pd.get_dummies(df.score, prefix='score')\n",
    "ohc.value_counts()"
   ]
  },
  {
   "cell_type": "code",
   "execution_count": 110,
   "metadata": {},
   "outputs": [
    {
     "output_type": "execute_result",
     "data": {
      "text/plain": [
       "        Year           Publisher      Platform             No_Players  \\\n",
       "0     2014.0       RockstarNorth       XboxOne              Up to 30    \n",
       "1     2014.0       RockstarNorth  PlayStation4              Up to 30    \n",
       "2     2015.0       RockstarNorth            PC              Up to 32    \n",
       "3     2017.0            Nintendo          WiiU  No Online Multiplayer   \n",
       "4     2014.0          NaughtyDog  PlayStation4               Up to 8    \n",
       "...      ...                 ...           ...                    ...   \n",
       "1286  2016.0       TheGameBakers       XboxOne          not specified   \n",
       "1287  2013.0         i-illusions            PC          not specified   \n",
       "1288  2013.0        11bitstudios            PC          not specified   \n",
       "1289  2017.0          RedBarrels       XboxOne          not specified   \n",
       "1290  2014.0  UbisoftMontpellier  PlayStation4          not specified   \n",
       "\n",
       "            Main_Genre  \n",
       "0     Action Adventure  \n",
       "1     Action Adventure  \n",
       "2               Modern  \n",
       "3              Fantasy  \n",
       "4     Action Adventure  \n",
       "...                ...  \n",
       "1286            Action  \n",
       "1287            Action  \n",
       "1288            Action  \n",
       "1289  Action Adventure  \n",
       "1290        Platformer  \n",
       "\n",
       "[1291 rows x 5 columns]"
      ],
      "text/html": "<div>\n<style scoped>\n    .dataframe tbody tr th:only-of-type {\n        vertical-align: middle;\n    }\n\n    .dataframe tbody tr th {\n        vertical-align: top;\n    }\n\n    .dataframe thead th {\n        text-align: right;\n    }\n</style>\n<table border=\"1\" class=\"dataframe\">\n  <thead>\n    <tr style=\"text-align: right;\">\n      <th></th>\n      <th>Year</th>\n      <th>Publisher</th>\n      <th>Platform</th>\n      <th>No_Players</th>\n      <th>Main_Genre</th>\n    </tr>\n  </thead>\n  <tbody>\n    <tr>\n      <th>0</th>\n      <td>2014.0</td>\n      <td>RockstarNorth</td>\n      <td>XboxOne</td>\n      <td>Up to 30</td>\n      <td>Action Adventure</td>\n    </tr>\n    <tr>\n      <th>1</th>\n      <td>2014.0</td>\n      <td>RockstarNorth</td>\n      <td>PlayStation4</td>\n      <td>Up to 30</td>\n      <td>Action Adventure</td>\n    </tr>\n    <tr>\n      <th>2</th>\n      <td>2015.0</td>\n      <td>RockstarNorth</td>\n      <td>PC</td>\n      <td>Up to 32</td>\n      <td>Modern</td>\n    </tr>\n    <tr>\n      <th>3</th>\n      <td>2017.0</td>\n      <td>Nintendo</td>\n      <td>WiiU</td>\n      <td>No Online Multiplayer</td>\n      <td>Fantasy</td>\n    </tr>\n    <tr>\n      <th>4</th>\n      <td>2014.0</td>\n      <td>NaughtyDog</td>\n      <td>PlayStation4</td>\n      <td>Up to 8</td>\n      <td>Action Adventure</td>\n    </tr>\n    <tr>\n      <th>...</th>\n      <td>...</td>\n      <td>...</td>\n      <td>...</td>\n      <td>...</td>\n      <td>...</td>\n    </tr>\n    <tr>\n      <th>1286</th>\n      <td>2016.0</td>\n      <td>TheGameBakers</td>\n      <td>XboxOne</td>\n      <td>not specified</td>\n      <td>Action</td>\n    </tr>\n    <tr>\n      <th>1287</th>\n      <td>2013.0</td>\n      <td>i-illusions</td>\n      <td>PC</td>\n      <td>not specified</td>\n      <td>Action</td>\n    </tr>\n    <tr>\n      <th>1288</th>\n      <td>2013.0</td>\n      <td>11bitstudios</td>\n      <td>PC</td>\n      <td>not specified</td>\n      <td>Action</td>\n    </tr>\n    <tr>\n      <th>1289</th>\n      <td>2017.0</td>\n      <td>RedBarrels</td>\n      <td>XboxOne</td>\n      <td>not specified</td>\n      <td>Action Adventure</td>\n    </tr>\n    <tr>\n      <th>1290</th>\n      <td>2014.0</td>\n      <td>UbisoftMontpellier</td>\n      <td>PlayStation4</td>\n      <td>not specified</td>\n      <td>Platformer</td>\n    </tr>\n  </tbody>\n</table>\n<p>1291 rows × 5 columns</p>\n</div>"
     },
     "metadata": {},
     "execution_count": 110
    }
   ],
   "source": [
    "df.drop([\"Title\",\"Metascore\", \"Genre\", \"Avg_Userscore\", \"score\"], axis=1, inplace=True)\n",
    "df"
   ]
  },
  {
   "cell_type": "code",
   "execution_count": 111,
   "metadata": {},
   "outputs": [
    {
     "output_type": "execute_result",
     "data": {
      "text/plain": [
       "      plat_PC  plat_PlayStation4  plat_PlayStationVita  plat_WiiU  \\\n",
       "0           0                  0                     0          0   \n",
       "1           0                  1                     0          0   \n",
       "2           1                  0                     0          0   \n",
       "3           0                  0                     0          1   \n",
       "4           0                  1                     0          0   \n",
       "...       ...                ...                   ...        ...   \n",
       "1286        0                  0                     0          0   \n",
       "1287        1                  0                     0          0   \n",
       "1288        1                  0                     0          0   \n",
       "1289        0                  0                     0          0   \n",
       "1290        0                  1                     0          0   \n",
       "\n",
       "      plat_XboxOne  \n",
       "0                1  \n",
       "1                0  \n",
       "2                0  \n",
       "3                0  \n",
       "4                0  \n",
       "...            ...  \n",
       "1286             1  \n",
       "1287             0  \n",
       "1288             0  \n",
       "1289             1  \n",
       "1290             0  \n",
       "\n",
       "[1291 rows x 5 columns]"
      ],
      "text/html": "<div>\n<style scoped>\n    .dataframe tbody tr th:only-of-type {\n        vertical-align: middle;\n    }\n\n    .dataframe tbody tr th {\n        vertical-align: top;\n    }\n\n    .dataframe thead th {\n        text-align: right;\n    }\n</style>\n<table border=\"1\" class=\"dataframe\">\n  <thead>\n    <tr style=\"text-align: right;\">\n      <th></th>\n      <th>plat_PC</th>\n      <th>plat_PlayStation4</th>\n      <th>plat_PlayStationVita</th>\n      <th>plat_WiiU</th>\n      <th>plat_XboxOne</th>\n    </tr>\n  </thead>\n  <tbody>\n    <tr>\n      <th>0</th>\n      <td>0</td>\n      <td>0</td>\n      <td>0</td>\n      <td>0</td>\n      <td>1</td>\n    </tr>\n    <tr>\n      <th>1</th>\n      <td>0</td>\n      <td>1</td>\n      <td>0</td>\n      <td>0</td>\n      <td>0</td>\n    </tr>\n    <tr>\n      <th>2</th>\n      <td>1</td>\n      <td>0</td>\n      <td>0</td>\n      <td>0</td>\n      <td>0</td>\n    </tr>\n    <tr>\n      <th>3</th>\n      <td>0</td>\n      <td>0</td>\n      <td>0</td>\n      <td>1</td>\n      <td>0</td>\n    </tr>\n    <tr>\n      <th>4</th>\n      <td>0</td>\n      <td>1</td>\n      <td>0</td>\n      <td>0</td>\n      <td>0</td>\n    </tr>\n    <tr>\n      <th>...</th>\n      <td>...</td>\n      <td>...</td>\n      <td>...</td>\n      <td>...</td>\n      <td>...</td>\n    </tr>\n    <tr>\n      <th>1286</th>\n      <td>0</td>\n      <td>0</td>\n      <td>0</td>\n      <td>0</td>\n      <td>1</td>\n    </tr>\n    <tr>\n      <th>1287</th>\n      <td>1</td>\n      <td>0</td>\n      <td>0</td>\n      <td>0</td>\n      <td>0</td>\n    </tr>\n    <tr>\n      <th>1288</th>\n      <td>1</td>\n      <td>0</td>\n      <td>0</td>\n      <td>0</td>\n      <td>0</td>\n    </tr>\n    <tr>\n      <th>1289</th>\n      <td>0</td>\n      <td>0</td>\n      <td>0</td>\n      <td>0</td>\n      <td>1</td>\n    </tr>\n    <tr>\n      <th>1290</th>\n      <td>0</td>\n      <td>1</td>\n      <td>0</td>\n      <td>0</td>\n      <td>0</td>\n    </tr>\n  </tbody>\n</table>\n<p>1291 rows × 5 columns</p>\n</div>"
     },
     "metadata": {},
     "execution_count": 111
    }
   ],
   "source": [
    "plat_ohc = pd.get_dummies(df.Platform, prefix='plat')\n",
    "plat_ohc"
   ]
  },
  {
   "cell_type": "code",
   "execution_count": 112,
   "metadata": {},
   "outputs": [],
   "source": [
    "target = ohc.drop([\"score_0\"], axis=1)\n",
    "target_names = [\"below\",\"above\"]"
   ]
  },
  {
   "cell_type": "code",
   "execution_count": 113,
   "metadata": {},
   "outputs": [],
   "source": [
    "plat_ohc = plat_ohc.drop([\"plat_WiiU\"],axis=1)\n",
    "feature_names = plat_ohc.columns"
   ]
  },
  {
   "cell_type": "code",
   "execution_count": 114,
   "metadata": {},
   "outputs": [],
   "source": [
    "from sklearn.model_selection import train_test_split\n",
    "X_train, X_test, y_train, y_test = train_test_split(year_ohc, target)"
   ]
  },
  {
   "cell_type": "code",
   "execution_count": 115,
   "metadata": {},
   "outputs": [
    {
     "output_type": "execute_result",
     "data": {
      "text/plain": [
       "0.7461300309597523"
      ]
     },
     "metadata": {},
     "execution_count": 115
    }
   ],
   "source": [
    "clf = tree.DecisionTreeClassifier()\n",
    "clf = clf.fit(X_train, y_train)\n",
    "clf.score(X_test,y_test)"
   ]
  },
  {
   "cell_type": "code",
   "execution_count": 116,
   "metadata": {},
   "outputs": [
    {
     "output_type": "stream",
     "name": "stderr",
     "text": [
      "<ipython-input-116-b9190b294ca5>:3: DataConversionWarning: A column-vector y was passed when a 1d array was expected. Please change the shape of y to (n_samples,), for example using ravel().\n  rf = rf.fit(X_train, y_train)\n"
     ]
    },
    {
     "output_type": "execute_result",
     "data": {
      "text/plain": [
       "0.7461300309597523"
      ]
     },
     "metadata": {},
     "execution_count": 116
    }
   ],
   "source": [
    "from sklearn.ensemble import RandomForestClassifier\n",
    "rf = RandomForestClassifier(n_estimators=100)\n",
    "rf = rf.fit(X_train, y_train)\n",
    "rf.score(X_test,y_test)"
   ]
  },
  {
   "cell_type": "code",
   "execution_count": 117,
   "metadata": {},
   "outputs": [
    {
     "output_type": "execute_result",
     "data": {
      "text/plain": [
       "array([0.28837073, 0.07690834, 0.0633497 , 0.14348951, 0.09963963,\n",
       "       0.32824209])"
      ]
     },
     "metadata": {},
     "execution_count": 117
    }
   ],
   "source": [
    "importances = rf.feature_importances_\n",
    "importances"
   ]
  },
  {
   "cell_type": "code",
   "execution_count": 118,
   "metadata": {},
   "outputs": [
    {
     "output_type": "execute_result",
     "data": {
      "text/plain": [
       "[(0.2883707271061347, 'plat_PC'),\n",
       " (0.14348950693018556, 'plat_XboxOne'),\n",
       " (0.07690834332641275, 'plat_PlayStation4'),\n",
       " (0.06334970108338475, 'plat_PlayStationVita')]"
      ]
     },
     "metadata": {},
     "execution_count": 118
    }
   ],
   "source": [
    "sorted(zip(rf.feature_importances_, feature_names), reverse=True)"
   ]
  }
 ]
}