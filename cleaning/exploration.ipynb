{
 "metadata": {
  "language_info": {
   "codemirror_mode": {
    "name": "ipython",
    "version": 3
   },
   "file_extension": ".py",
   "mimetype": "text/x-python",
   "name": "python",
   "nbconvert_exporter": "python",
   "pygments_lexer": "ipython3",
   "version": "3.9.2"
  },
  "orig_nbformat": 2,
  "kernelspec": {
   "name": "python392jvsc74a57bd063fd5069d213b44bf678585dea6b12cceca9941eaf7f819626cde1f2670de90d",
   "display_name": "Python 3.9.2 64-bit"
  },
  "metadata": {
   "interpreter": {
    "hash": "63fd5069d213b44bf678585dea6b12cceca9941eaf7f819626cde1f2670de90d"
   }
  }
 },
 "nbformat": 4,
 "nbformat_minor": 2,
 "cells": [
  {
   "source": [
    "# This file will explore the data files and find what can and cannot be analysed"
   ],
   "cell_type": "markdown",
   "metadata": {}
  },
  {
   "cell_type": "code",
   "execution_count": null,
   "metadata": {},
   "outputs": [],
   "source": [
    "#Import any required dependencies \n",
    "import pandas as pd"
   ]
  },
  {
   "cell_type": "code",
   "execution_count": null,
   "metadata": {},
   "outputs": [],
   "source": [
    "#Read in the csv files using pandas \r\n",
    "sales = pd.read_csv(\"../data/vgsales.csv\")\r\n",
    "reviews = pd.read_csv(\"../data/metacritic_game_user_comments.csv\")\r\n",
    "info = pd.read_csv(\"../data/metacritic_game_info.csv\")"
   ]
  },
  {
   "cell_type": "code",
   "execution_count": null,
   "metadata": {},
   "outputs": [],
   "source": [
    "#Check the dtypes of the dataframes \n",
    "sales.dtypes;\n",
    "reviews.dtypes;\n",
    "info.dtypes;"
   ]
  },
  {
   "source": [
    "#### From the above we can find that all columns in the \"info\" dataframe are labelled as \"objects\" this is unexpected as columns such as year or metascore. This means that somewhere in the column, the rows contain alphabetical values, and cannot be used. This will be adressed in \"info_cleaning.ipynb\""
   ],
   "cell_type": "markdown",
   "metadata": {}
  },
  {
   "cell_type": "code",
   "execution_count": null,
   "metadata": {},
   "outputs": [],
   "source": [
    "# The next step we can take is to explore what kind of gaming platforms are available in the data \n",
    "platforms_sales = sales[\"Platform\"].value_counts()\n",
    "platforms_info = info[\"Platform\"].value_counts()\n",
    "platforms_reviews = reviews[\"Platform\"].value_counts()"
   ]
  },
  {
   "source": [
    "#### A challenge has been presented to us by finding this out. The \"info\" and \"reviews\" dataframes contain the same platforms and phrasing for the platforms. However, the sales dataframes contains abbreviated and capitalised names of the platforms. When cleaning the sales dataframe, this is a consideration that must be adressed "
   ],
   "cell_type": "markdown",
   "metadata": {}
  },
  {
   "source": [
    "### The \"reviews\" csv file is almost 1GB in size. Given the timeframe for this project, this entire file cannot be used for analysis. Therefore we must limit the number of platforms we look at. Therefore,the platforms that will be looked at for this project are XboxOne, PlayStation4, WiiU, PC and PlaystationVita"
   ],
   "cell_type": "markdown",
   "metadata": {}
  }
 ]
}