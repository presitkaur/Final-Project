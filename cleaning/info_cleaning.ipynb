{
 "metadata": {
  "language_info": {
   "codemirror_mode": {
    "name": "ipython",
    "version": 3
   },
   "file_extension": ".py",
   "mimetype": "text/x-python",
   "name": "python",
   "nbconvert_exporter": "python",
   "pygments_lexer": "ipython3",
   "version": "3.9.2"
  },
  "orig_nbformat": 2,
  "kernelspec": {
   "name": "python392jvsc74a57bd063fd5069d213b44bf678585dea6b12cceca9941eaf7f819626cde1f2670de90d",
   "display_name": "Python 3.9.2 64-bit"
  },
  "metadata": {
   "interpreter": {
    "hash": "63fd5069d213b44bf678585dea6b12cceca9941eaf7f819626cde1f2670de90d"
   }
  }
 },
 "nbformat": 4,
 "nbformat_minor": 2,
 "cells": [
  {
   "source": [
    "# This file will look at cleaning the dataframe containing general information of some video games "
   ],
   "cell_type": "markdown",
   "metadata": {}
  },
  {
   "cell_type": "code",
   "execution_count": 2,
   "metadata": {},
   "outputs": [],
   "source": [
    "#Import any required dependencies \n",
    "import pandas as pd "
   ]
  },
  {
   "cell_type": "code",
   "execution_count": 3,
   "metadata": {},
   "outputs": [
    {
     "output_type": "execute_result",
     "data": {
      "text/plain": [
       "   Unnamed: 0                                 Title  Year  \\\n",
       "0           0  The Legend of Zelda: Ocarina of Time  1998   \n",
       "1           1              Tony Hawk's Pro Skater 2  2000   \n",
       "2           2                   Grand Theft Auto IV  2008   \n",
       "3           3                           SoulCalibur  1999   \n",
       "4           4                   Grand Theft Auto IV  2008   \n",
       "\n",
       "                Publisher                                      Genre  \\\n",
       "0                Nintendo                   Action Adventure;Fantasy   \n",
       "1  NeversoftEntertainment           Sports;Alternative;Skateboarding   \n",
       "2           RockstarNorth  Action Adventure;Modern;Modern;Open-World   \n",
       "3                   Namco                         Action;Fighting;3D   \n",
       "4           RockstarNorth  Action Adventure;Modern;Modern;Open-World   \n",
       "\n",
       "       Platform Metascore Avg_Userscore No_Players  \n",
       "0    Nintendo64        99           9.1   1 Player  \n",
       "1   PlayStation        98           7.4       1-2   \n",
       "2  PlayStation3        98           7.5   1 Player  \n",
       "3     Dreamcast        98           8.6       1-2   \n",
       "4       Xbox360        98           7.9   1 Player  "
      ],
      "text/html": "<div>\n<style scoped>\n    .dataframe tbody tr th:only-of-type {\n        vertical-align: middle;\n    }\n\n    .dataframe tbody tr th {\n        vertical-align: top;\n    }\n\n    .dataframe thead th {\n        text-align: right;\n    }\n</style>\n<table border=\"1\" class=\"dataframe\">\n  <thead>\n    <tr style=\"text-align: right;\">\n      <th></th>\n      <th>Unnamed: 0</th>\n      <th>Title</th>\n      <th>Year</th>\n      <th>Publisher</th>\n      <th>Genre</th>\n      <th>Platform</th>\n      <th>Metascore</th>\n      <th>Avg_Userscore</th>\n      <th>No_Players</th>\n    </tr>\n  </thead>\n  <tbody>\n    <tr>\n      <th>0</th>\n      <td>0</td>\n      <td>The Legend of Zelda: Ocarina of Time</td>\n      <td>1998</td>\n      <td>Nintendo</td>\n      <td>Action Adventure;Fantasy</td>\n      <td>Nintendo64</td>\n      <td>99</td>\n      <td>9.1</td>\n      <td>1 Player</td>\n    </tr>\n    <tr>\n      <th>1</th>\n      <td>1</td>\n      <td>Tony Hawk's Pro Skater 2</td>\n      <td>2000</td>\n      <td>NeversoftEntertainment</td>\n      <td>Sports;Alternative;Skateboarding</td>\n      <td>PlayStation</td>\n      <td>98</td>\n      <td>7.4</td>\n      <td>1-2</td>\n    </tr>\n    <tr>\n      <th>2</th>\n      <td>2</td>\n      <td>Grand Theft Auto IV</td>\n      <td>2008</td>\n      <td>RockstarNorth</td>\n      <td>Action Adventure;Modern;Modern;Open-World</td>\n      <td>PlayStation3</td>\n      <td>98</td>\n      <td>7.5</td>\n      <td>1 Player</td>\n    </tr>\n    <tr>\n      <th>3</th>\n      <td>3</td>\n      <td>SoulCalibur</td>\n      <td>1999</td>\n      <td>Namco</td>\n      <td>Action;Fighting;3D</td>\n      <td>Dreamcast</td>\n      <td>98</td>\n      <td>8.6</td>\n      <td>1-2</td>\n    </tr>\n    <tr>\n      <th>4</th>\n      <td>4</td>\n      <td>Grand Theft Auto IV</td>\n      <td>2008</td>\n      <td>RockstarNorth</td>\n      <td>Action Adventure;Modern;Modern;Open-World</td>\n      <td>Xbox360</td>\n      <td>98</td>\n      <td>7.9</td>\n      <td>1 Player</td>\n    </tr>\n  </tbody>\n</table>\n</div>"
     },
     "metadata": {},
     "execution_count": 3
    }
   ],
   "source": [
    "#Import the data file and display the results\n",
    "info_df = pd.read_csv(\"../data/metacritic_game_info.csv\")\n",
    "info_df.head()"
   ]
  },
  {
   "source": [
    "### We have a lot of irrelevant columns in this dataframe. We only really need the \"Year\", \"Platform\", \"Metascore\", and \"Avg_Userscore\" columns "
   ],
   "cell_type": "markdown",
   "metadata": {}
  },
  {
   "cell_type": "code",
   "execution_count": 4,
   "metadata": {},
   "outputs": [
    {
     "output_type": "execute_result",
     "data": {
      "text/plain": [
       "                                  Title  Year      Platform Metascore  \\\n",
       "0  The Legend of Zelda: Ocarina of Time  1998    Nintendo64        99   \n",
       "1              Tony Hawk's Pro Skater 2  2000   PlayStation        98   \n",
       "2                   Grand Theft Auto IV  2008  PlayStation3        98   \n",
       "3                           SoulCalibur  1999     Dreamcast        98   \n",
       "4                   Grand Theft Auto IV  2008       Xbox360        98   \n",
       "\n",
       "  Avg_Userscore  \n",
       "0           9.1  \n",
       "1           7.4  \n",
       "2           7.5  \n",
       "3           8.6  \n",
       "4           7.9  "
      ],
      "text/html": "<div>\n<style scoped>\n    .dataframe tbody tr th:only-of-type {\n        vertical-align: middle;\n    }\n\n    .dataframe tbody tr th {\n        vertical-align: top;\n    }\n\n    .dataframe thead th {\n        text-align: right;\n    }\n</style>\n<table border=\"1\" class=\"dataframe\">\n  <thead>\n    <tr style=\"text-align: right;\">\n      <th></th>\n      <th>Title</th>\n      <th>Year</th>\n      <th>Platform</th>\n      <th>Metascore</th>\n      <th>Avg_Userscore</th>\n    </tr>\n  </thead>\n  <tbody>\n    <tr>\n      <th>0</th>\n      <td>The Legend of Zelda: Ocarina of Time</td>\n      <td>1998</td>\n      <td>Nintendo64</td>\n      <td>99</td>\n      <td>9.1</td>\n    </tr>\n    <tr>\n      <th>1</th>\n      <td>Tony Hawk's Pro Skater 2</td>\n      <td>2000</td>\n      <td>PlayStation</td>\n      <td>98</td>\n      <td>7.4</td>\n    </tr>\n    <tr>\n      <th>2</th>\n      <td>Grand Theft Auto IV</td>\n      <td>2008</td>\n      <td>PlayStation3</td>\n      <td>98</td>\n      <td>7.5</td>\n    </tr>\n    <tr>\n      <th>3</th>\n      <td>SoulCalibur</td>\n      <td>1999</td>\n      <td>Dreamcast</td>\n      <td>98</td>\n      <td>8.6</td>\n    </tr>\n    <tr>\n      <th>4</th>\n      <td>Grand Theft Auto IV</td>\n      <td>2008</td>\n      <td>Xbox360</td>\n      <td>98</td>\n      <td>7.9</td>\n    </tr>\n  </tbody>\n</table>\n</div>"
     },
     "metadata": {},
     "execution_count": 4
    }
   ],
   "source": [
    "# Drop all unecessary columns \n",
    "step_one = info_df.drop(columns=['Unnamed: 0','Publisher', 'Genre', 'No_Players'], axis=1)\n",
    "step_one.head()"
   ]
  },
  {
   "source": [
    "### Now a problem we noticed in \"exploration.ipynb\" is that all colums listed in this dataset are as \"object\" values. The Year, Metascore and Avg_userscore should be as int/float values. This is the next problem we must resolve "
   ],
   "cell_type": "markdown",
   "metadata": {}
  },
  {
   "source": [
    "### There must be a reason that those columns are listed as \"object\" Lets take a look at the unique values in the columns to see if there are any inconsistencies "
   ],
   "cell_type": "markdown",
   "metadata": {}
  },
  {
   "cell_type": "code",
   "execution_count": 5,
   "metadata": {},
   "outputs": [
    {
     "output_type": "execute_result",
     "data": {
      "text/plain": [
       "array(['1998', '2000', '2008', '1999', '2007', '2010', '2014', '2013',\n",
       "       '2017', '2001', '2002', '2004', '2015', '1997', '2009', '2005',\n",
       "       '2011', '2006', '2003', '2018', '1996', '2012', '2016',\n",
       "       'not specified', '1995'], dtype=object)"
      ]
     },
     "metadata": {},
     "execution_count": 5
    }
   ],
   "source": [
    "#Use the \".unique()\" function to determine the unique values in the column \n",
    "years_unique = step_one[\"Year\"].unique()\n",
    "years_unique"
   ]
  },
  {
   "source": [
    "we have rows with the label \"not specified\" for the years column. This is not a numerical year that pertains to the study and can therefore be removed "
   ],
   "cell_type": "markdown",
   "metadata": {}
  },
  {
   "cell_type": "code",
   "execution_count": 6,
   "metadata": {},
   "outputs": [],
   "source": [
    "#Remove all rows where the year is listed as \"not specified\"\n",
    "step_two = step_one.drop(step_one[step_one.Year == \"not specified\"].index)"
   ]
  },
  {
   "cell_type": "code",
   "execution_count": 7,
   "metadata": {},
   "outputs": [],
   "source": [
    "#Convert the column to numeric values\n",
    "step_two[\"Year\"] = step_two.Year.astype(float)"
   ]
  },
  {
   "cell_type": "code",
   "execution_count": 8,
   "metadata": {},
   "outputs": [],
   "source": [
    "#Repeat for the metascore column \n",
    "metascore_unique = step_two[\"Metascore\"].unique()\n",
    "\n",
    "#There are no strange non numeric values in this column so we can skip the step where we drop rows and go to convert the column to float64\n",
    "step_two[\"Metascore\"] = step_two.Metascore.astype(float)"
   ]
  },
  {
   "cell_type": "code",
   "execution_count": 9,
   "metadata": {},
   "outputs": [],
   "source": [
    "#Reepat for the avg_userscore column\n",
    "userscore_unique = step_two[\"Avg_Userscore\"].unique()\n",
    "\n",
    "#We have \"not specified\" value and \"tbd\" in this column. Lets drop all rows where the average userscore is \"not specified\"\n",
    "step_two = step_two.drop(step_two[step_two.Avg_Userscore == \"not specified\"].index)\n",
    "step_two = step_two.drop(step_two[step_two.Avg_Userscore == \"tbd\"].index)\n",
    "\n",
    "#Convert the column to float64 \n",
    "step_two[\"Avg_Userscore\"] = step_two.Avg_Userscore.astype(float)"
   ]
  },
  {
   "source": [
    "### We can now remove all the years that are not not needed for this project"
   ],
   "cell_type": "markdown",
   "metadata": {}
  },
  {
   "cell_type": "code",
   "execution_count": 15,
   "metadata": {},
   "outputs": [
    {
     "output_type": "execute_result",
     "data": {
      "text/plain": [
       "                                        Title    Year      Platform  \\\n",
       "7                          Grand Theft Auto V  2014.0       XboxOne   \n",
       "8                          Grand Theft Auto V  2013.0  PlayStation3   \n",
       "9                          Grand Theft Auto V  2013.0       Xbox360   \n",
       "11    The Legend of Zelda: Breath of the Wild  2017.0        Switch   \n",
       "14                         Grand Theft Auto V  2014.0  PlayStation4   \n",
       "...                                       ...     ...           ...   \n",
       "4989                             Corpse Party  2016.0           3DS   \n",
       "4990                                Element4l  2013.0            PC   \n",
       "4991                                Anomaly 2  2013.0            PC   \n",
       "4993                                Outlast 2  2017.0       XboxOne   \n",
       "4998            Valiant Hearts: The Great War  2014.0  PlayStation4   \n",
       "\n",
       "      Metascore  Avg_Userscore  \n",
       "7          97.0            7.8  \n",
       "8          97.0            8.3  \n",
       "9          97.0            8.3  \n",
       "11         97.0            8.5  \n",
       "14         97.0            8.3  \n",
       "...         ...            ...  \n",
       "4989       77.0            7.8  \n",
       "4990       77.0            7.7  \n",
       "4991       77.0            7.9  \n",
       "4993       77.0            6.5  \n",
       "4998       77.0            8.4  \n",
       "\n",
       "[1746 rows x 5 columns]"
      ],
      "text/html": "<div>\n<style scoped>\n    .dataframe tbody tr th:only-of-type {\n        vertical-align: middle;\n    }\n\n    .dataframe tbody tr th {\n        vertical-align: top;\n    }\n\n    .dataframe thead th {\n        text-align: right;\n    }\n</style>\n<table border=\"1\" class=\"dataframe\">\n  <thead>\n    <tr style=\"text-align: right;\">\n      <th></th>\n      <th>Title</th>\n      <th>Year</th>\n      <th>Platform</th>\n      <th>Metascore</th>\n      <th>Avg_Userscore</th>\n    </tr>\n  </thead>\n  <tbody>\n    <tr>\n      <th>7</th>\n      <td>Grand Theft Auto V</td>\n      <td>2014.0</td>\n      <td>XboxOne</td>\n      <td>97.0</td>\n      <td>7.8</td>\n    </tr>\n    <tr>\n      <th>8</th>\n      <td>Grand Theft Auto V</td>\n      <td>2013.0</td>\n      <td>PlayStation3</td>\n      <td>97.0</td>\n      <td>8.3</td>\n    </tr>\n    <tr>\n      <th>9</th>\n      <td>Grand Theft Auto V</td>\n      <td>2013.0</td>\n      <td>Xbox360</td>\n      <td>97.0</td>\n      <td>8.3</td>\n    </tr>\n    <tr>\n      <th>11</th>\n      <td>The Legend of Zelda: Breath of the Wild</td>\n      <td>2017.0</td>\n      <td>Switch</td>\n      <td>97.0</td>\n      <td>8.5</td>\n    </tr>\n    <tr>\n      <th>14</th>\n      <td>Grand Theft Auto V</td>\n      <td>2014.0</td>\n      <td>PlayStation4</td>\n      <td>97.0</td>\n      <td>8.3</td>\n    </tr>\n    <tr>\n      <th>...</th>\n      <td>...</td>\n      <td>...</td>\n      <td>...</td>\n      <td>...</td>\n      <td>...</td>\n    </tr>\n    <tr>\n      <th>4989</th>\n      <td>Corpse Party</td>\n      <td>2016.0</td>\n      <td>3DS</td>\n      <td>77.0</td>\n      <td>7.8</td>\n    </tr>\n    <tr>\n      <th>4990</th>\n      <td>Element4l</td>\n      <td>2013.0</td>\n      <td>PC</td>\n      <td>77.0</td>\n      <td>7.7</td>\n    </tr>\n    <tr>\n      <th>4991</th>\n      <td>Anomaly 2</td>\n      <td>2013.0</td>\n      <td>PC</td>\n      <td>77.0</td>\n      <td>7.9</td>\n    </tr>\n    <tr>\n      <th>4993</th>\n      <td>Outlast 2</td>\n      <td>2017.0</td>\n      <td>XboxOne</td>\n      <td>77.0</td>\n      <td>6.5</td>\n    </tr>\n    <tr>\n      <th>4998</th>\n      <td>Valiant Hearts: The Great War</td>\n      <td>2014.0</td>\n      <td>PlayStation4</td>\n      <td>77.0</td>\n      <td>8.4</td>\n    </tr>\n  </tbody>\n</table>\n<p>1746 rows × 5 columns</p>\n</div>"
     },
     "metadata": {},
     "execution_count": 15
    }
   ],
   "source": [
    "#Extract only the rows where the year is equal to 2014,2015,2016,2017\n",
    "step_three = step_two.loc[step_two['Year'].isin([2012,2013,2014,2015,2016,2017]), :]\n",
    "step_three"
   ]
  },
  {
   "source": [
    "### Can now get the rows where the platform is equal to \"XboxOne\", \"PlayStation4\", \"WiiU\", \"PC\", \"PlayStationVita\""
   ],
   "cell_type": "markdown",
   "metadata": {}
  },
  {
   "cell_type": "code",
   "execution_count": 16,
   "metadata": {},
   "outputs": [
    {
     "output_type": "execute_result",
     "data": {
      "text/plain": [
       "                                        Title    Year      Platform  \\\n",
       "7                          Grand Theft Auto V  2014.0       XboxOne   \n",
       "14                         Grand Theft Auto V  2014.0  PlayStation4   \n",
       "21                         Grand Theft Auto V  2015.0            PC   \n",
       "22    The Legend of Zelda: Breath of the Wild  2017.0          WiiU   \n",
       "55                  The Last of Us Remastered  2014.0  PlayStation4   \n",
       "...                                       ...     ...           ...   \n",
       "4988                                     Furi  2016.0       XboxOne   \n",
       "4990                                Element4l  2013.0            PC   \n",
       "4991                                Anomaly 2  2013.0            PC   \n",
       "4993                                Outlast 2  2017.0       XboxOne   \n",
       "4998            Valiant Hearts: The Great War  2014.0  PlayStation4   \n",
       "\n",
       "      Metascore  Avg_Userscore  \n",
       "7          97.0            7.8  \n",
       "14         97.0            8.3  \n",
       "21         96.0            7.7  \n",
       "22         96.0            8.2  \n",
       "55         95.0            9.1  \n",
       "...         ...            ...  \n",
       "4988       77.0            7.6  \n",
       "4990       77.0            7.7  \n",
       "4991       77.0            7.9  \n",
       "4993       77.0            6.5  \n",
       "4998       77.0            8.4  \n",
       "\n",
       "[1291 rows x 5 columns]"
      ],
      "text/html": "<div>\n<style scoped>\n    .dataframe tbody tr th:only-of-type {\n        vertical-align: middle;\n    }\n\n    .dataframe tbody tr th {\n        vertical-align: top;\n    }\n\n    .dataframe thead th {\n        text-align: right;\n    }\n</style>\n<table border=\"1\" class=\"dataframe\">\n  <thead>\n    <tr style=\"text-align: right;\">\n      <th></th>\n      <th>Title</th>\n      <th>Year</th>\n      <th>Platform</th>\n      <th>Metascore</th>\n      <th>Avg_Userscore</th>\n    </tr>\n  </thead>\n  <tbody>\n    <tr>\n      <th>7</th>\n      <td>Grand Theft Auto V</td>\n      <td>2014.0</td>\n      <td>XboxOne</td>\n      <td>97.0</td>\n      <td>7.8</td>\n    </tr>\n    <tr>\n      <th>14</th>\n      <td>Grand Theft Auto V</td>\n      <td>2014.0</td>\n      <td>PlayStation4</td>\n      <td>97.0</td>\n      <td>8.3</td>\n    </tr>\n    <tr>\n      <th>21</th>\n      <td>Grand Theft Auto V</td>\n      <td>2015.0</td>\n      <td>PC</td>\n      <td>96.0</td>\n      <td>7.7</td>\n    </tr>\n    <tr>\n      <th>22</th>\n      <td>The Legend of Zelda: Breath of the Wild</td>\n      <td>2017.0</td>\n      <td>WiiU</td>\n      <td>96.0</td>\n      <td>8.2</td>\n    </tr>\n    <tr>\n      <th>55</th>\n      <td>The Last of Us Remastered</td>\n      <td>2014.0</td>\n      <td>PlayStation4</td>\n      <td>95.0</td>\n      <td>9.1</td>\n    </tr>\n    <tr>\n      <th>...</th>\n      <td>...</td>\n      <td>...</td>\n      <td>...</td>\n      <td>...</td>\n      <td>...</td>\n    </tr>\n    <tr>\n      <th>4988</th>\n      <td>Furi</td>\n      <td>2016.0</td>\n      <td>XboxOne</td>\n      <td>77.0</td>\n      <td>7.6</td>\n    </tr>\n    <tr>\n      <th>4990</th>\n      <td>Element4l</td>\n      <td>2013.0</td>\n      <td>PC</td>\n      <td>77.0</td>\n      <td>7.7</td>\n    </tr>\n    <tr>\n      <th>4991</th>\n      <td>Anomaly 2</td>\n      <td>2013.0</td>\n      <td>PC</td>\n      <td>77.0</td>\n      <td>7.9</td>\n    </tr>\n    <tr>\n      <th>4993</th>\n      <td>Outlast 2</td>\n      <td>2017.0</td>\n      <td>XboxOne</td>\n      <td>77.0</td>\n      <td>6.5</td>\n    </tr>\n    <tr>\n      <th>4998</th>\n      <td>Valiant Hearts: The Great War</td>\n      <td>2014.0</td>\n      <td>PlayStation4</td>\n      <td>77.0</td>\n      <td>8.4</td>\n    </tr>\n  </tbody>\n</table>\n<p>1291 rows × 5 columns</p>\n</div>"
     },
     "metadata": {},
     "execution_count": 16
    }
   ],
   "source": [
    "#Extract the relevant Platform values for the rows\n",
    "step_four = step_three.loc[step_three['Platform'].isin([\"XboxOne\", \"PlayStation4\", \"WiiU\", \"PC\", \"PlayStationVita\"]), :]\n",
    "step_four"
   ]
  },
  {
   "source": [
    "### Finally check for any NaN values in the rows and if they are present, drop them from the dataframe entirely. Once this has been done, reset the index values and export the data to the \"cleaned_data\" folder "
   ],
   "cell_type": "markdown",
   "metadata": {}
  },
  {
   "cell_type": "code",
   "execution_count": 17,
   "metadata": {},
   "outputs": [
    {
     "output_type": "execute_result",
     "data": {
      "text/plain": [
       "False"
      ]
     },
     "metadata": {},
     "execution_count": 17
    }
   ],
   "source": [
    "#Check for NaN in the entire dataframe using \".isnull()\" and \".any()\"\n",
    "step_four.isnull().values.any()"
   ]
  },
  {
   "cell_type": "code",
   "execution_count": 18,
   "metadata": {},
   "outputs": [
    {
     "output_type": "execute_result",
     "data": {
      "text/plain": [
       "                                        Title    Year      Platform  \\\n",
       "0                          Grand Theft Auto V  2014.0       XboxOne   \n",
       "1                          Grand Theft Auto V  2014.0  PlayStation4   \n",
       "2                          Grand Theft Auto V  2015.0            PC   \n",
       "3     The Legend of Zelda: Breath of the Wild  2017.0          WiiU   \n",
       "4                   The Last of Us Remastered  2014.0  PlayStation4   \n",
       "...                                       ...     ...           ...   \n",
       "1286                                     Furi  2016.0       XboxOne   \n",
       "1287                                Element4l  2013.0            PC   \n",
       "1288                                Anomaly 2  2013.0            PC   \n",
       "1289                                Outlast 2  2017.0       XboxOne   \n",
       "1290            Valiant Hearts: The Great War  2014.0  PlayStation4   \n",
       "\n",
       "      Metascore  Avg_Userscore  \n",
       "0          97.0            7.8  \n",
       "1          97.0            8.3  \n",
       "2          96.0            7.7  \n",
       "3          96.0            8.2  \n",
       "4          95.0            9.1  \n",
       "...         ...            ...  \n",
       "1286       77.0            7.6  \n",
       "1287       77.0            7.7  \n",
       "1288       77.0            7.9  \n",
       "1289       77.0            6.5  \n",
       "1290       77.0            8.4  \n",
       "\n",
       "[1291 rows x 5 columns]"
      ],
      "text/html": "<div>\n<style scoped>\n    .dataframe tbody tr th:only-of-type {\n        vertical-align: middle;\n    }\n\n    .dataframe tbody tr th {\n        vertical-align: top;\n    }\n\n    .dataframe thead th {\n        text-align: right;\n    }\n</style>\n<table border=\"1\" class=\"dataframe\">\n  <thead>\n    <tr style=\"text-align: right;\">\n      <th></th>\n      <th>Title</th>\n      <th>Year</th>\n      <th>Platform</th>\n      <th>Metascore</th>\n      <th>Avg_Userscore</th>\n    </tr>\n  </thead>\n  <tbody>\n    <tr>\n      <th>0</th>\n      <td>Grand Theft Auto V</td>\n      <td>2014.0</td>\n      <td>XboxOne</td>\n      <td>97.0</td>\n      <td>7.8</td>\n    </tr>\n    <tr>\n      <th>1</th>\n      <td>Grand Theft Auto V</td>\n      <td>2014.0</td>\n      <td>PlayStation4</td>\n      <td>97.0</td>\n      <td>8.3</td>\n    </tr>\n    <tr>\n      <th>2</th>\n      <td>Grand Theft Auto V</td>\n      <td>2015.0</td>\n      <td>PC</td>\n      <td>96.0</td>\n      <td>7.7</td>\n    </tr>\n    <tr>\n      <th>3</th>\n      <td>The Legend of Zelda: Breath of the Wild</td>\n      <td>2017.0</td>\n      <td>WiiU</td>\n      <td>96.0</td>\n      <td>8.2</td>\n    </tr>\n    <tr>\n      <th>4</th>\n      <td>The Last of Us Remastered</td>\n      <td>2014.0</td>\n      <td>PlayStation4</td>\n      <td>95.0</td>\n      <td>9.1</td>\n    </tr>\n    <tr>\n      <th>...</th>\n      <td>...</td>\n      <td>...</td>\n      <td>...</td>\n      <td>...</td>\n      <td>...</td>\n    </tr>\n    <tr>\n      <th>1286</th>\n      <td>Furi</td>\n      <td>2016.0</td>\n      <td>XboxOne</td>\n      <td>77.0</td>\n      <td>7.6</td>\n    </tr>\n    <tr>\n      <th>1287</th>\n      <td>Element4l</td>\n      <td>2013.0</td>\n      <td>PC</td>\n      <td>77.0</td>\n      <td>7.7</td>\n    </tr>\n    <tr>\n      <th>1288</th>\n      <td>Anomaly 2</td>\n      <td>2013.0</td>\n      <td>PC</td>\n      <td>77.0</td>\n      <td>7.9</td>\n    </tr>\n    <tr>\n      <th>1289</th>\n      <td>Outlast 2</td>\n      <td>2017.0</td>\n      <td>XboxOne</td>\n      <td>77.0</td>\n      <td>6.5</td>\n    </tr>\n    <tr>\n      <th>1290</th>\n      <td>Valiant Hearts: The Great War</td>\n      <td>2014.0</td>\n      <td>PlayStation4</td>\n      <td>77.0</td>\n      <td>8.4</td>\n    </tr>\n  </tbody>\n</table>\n<p>1291 rows × 5 columns</p>\n</div>"
     },
     "metadata": {},
     "execution_count": 18
    }
   ],
   "source": [
    "#There are no NaN values in the dataframe. The index can now be reset \n",
    "step_five = step_four.reset_index(drop=True)\n",
    "step_five"
   ]
  },
  {
   "cell_type": "code",
   "execution_count": 20,
   "metadata": {},
   "outputs": [],
   "source": [
    "#Export the dataframe as a csv to the \"cleaned_data\" folder\n",
    "step_five.to_csv(\"../cleaned_data/info.csv\", index=False)"
   ]
  }
 ]
}