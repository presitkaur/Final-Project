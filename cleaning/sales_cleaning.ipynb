{
 "metadata": {
  "language_info": {
   "codemirror_mode": {
    "name": "ipython",
    "version": 3
   },
   "file_extension": ".py",
   "mimetype": "text/x-python",
   "name": "python",
   "nbconvert_exporter": "python",
   "pygments_lexer": "ipython3",
   "version": "3.9.2"
  },
  "orig_nbformat": 2,
  "kernelspec": {
   "name": "python392jvsc74a57bd063fd5069d213b44bf678585dea6b12cceca9941eaf7f819626cde1f2670de90d",
   "display_name": "Python 3.9.2 64-bit"
  },
  "metadata": {
   "interpreter": {
    "hash": "63fd5069d213b44bf678585dea6b12cceca9941eaf7f819626cde1f2670de90d"
   }
  }
 },
 "nbformat": 4,
 "nbformat_minor": 2,
 "cells": [
  {
   "source": [
    "# This file will look at cleaning the dataframe containing the sales information "
   ],
   "cell_type": "markdown",
   "metadata": {}
  },
  {
   "cell_type": "code",
   "execution_count": 1,
   "metadata": {},
   "outputs": [],
   "source": [
    "#Import any required dependencies \n",
    "import pandas as pd \n",
    "import numpy as np\n",
    "pd.options.mode.chained_assignment = None  # default='warn'"
   ]
  },
  {
   "cell_type": "code",
   "execution_count": 2,
   "metadata": {},
   "outputs": [
    {
     "output_type": "execute_result",
     "data": {
      "text/plain": [
       "   Rank                      Name Platform    Year         Genre Publisher  \\\n",
       "0     1                Wii Sports      Wii  2006.0        Sports  Nintendo   \n",
       "1     2         Super Mario Bros.      NES  1985.0      Platform  Nintendo   \n",
       "2     3            Mario Kart Wii      Wii  2008.0        Racing  Nintendo   \n",
       "3     4         Wii Sports Resort      Wii  2009.0        Sports  Nintendo   \n",
       "4     5  Pokemon Red/Pokemon Blue       GB  1996.0  Role-Playing  Nintendo   \n",
       "\n",
       "   NA_Sales  EU_Sales  JP_Sales  Other_Sales  Global_Sales  \n",
       "0     41.49     29.02      3.77         8.46         82.74  \n",
       "1     29.08      3.58      6.81         0.77         40.24  \n",
       "2     15.85     12.88      3.79         3.31         35.82  \n",
       "3     15.75     11.01      3.28         2.96         33.00  \n",
       "4     11.27      8.89     10.22         1.00         31.37  "
      ],
      "text/html": "<div>\n<style scoped>\n    .dataframe tbody tr th:only-of-type {\n        vertical-align: middle;\n    }\n\n    .dataframe tbody tr th {\n        vertical-align: top;\n    }\n\n    .dataframe thead th {\n        text-align: right;\n    }\n</style>\n<table border=\"1\" class=\"dataframe\">\n  <thead>\n    <tr style=\"text-align: right;\">\n      <th></th>\n      <th>Rank</th>\n      <th>Name</th>\n      <th>Platform</th>\n      <th>Year</th>\n      <th>Genre</th>\n      <th>Publisher</th>\n      <th>NA_Sales</th>\n      <th>EU_Sales</th>\n      <th>JP_Sales</th>\n      <th>Other_Sales</th>\n      <th>Global_Sales</th>\n    </tr>\n  </thead>\n  <tbody>\n    <tr>\n      <th>0</th>\n      <td>1</td>\n      <td>Wii Sports</td>\n      <td>Wii</td>\n      <td>2006.0</td>\n      <td>Sports</td>\n      <td>Nintendo</td>\n      <td>41.49</td>\n      <td>29.02</td>\n      <td>3.77</td>\n      <td>8.46</td>\n      <td>82.74</td>\n    </tr>\n    <tr>\n      <th>1</th>\n      <td>2</td>\n      <td>Super Mario Bros.</td>\n      <td>NES</td>\n      <td>1985.0</td>\n      <td>Platform</td>\n      <td>Nintendo</td>\n      <td>29.08</td>\n      <td>3.58</td>\n      <td>6.81</td>\n      <td>0.77</td>\n      <td>40.24</td>\n    </tr>\n    <tr>\n      <th>2</th>\n      <td>3</td>\n      <td>Mario Kart Wii</td>\n      <td>Wii</td>\n      <td>2008.0</td>\n      <td>Racing</td>\n      <td>Nintendo</td>\n      <td>15.85</td>\n      <td>12.88</td>\n      <td>3.79</td>\n      <td>3.31</td>\n      <td>35.82</td>\n    </tr>\n    <tr>\n      <th>3</th>\n      <td>4</td>\n      <td>Wii Sports Resort</td>\n      <td>Wii</td>\n      <td>2009.0</td>\n      <td>Sports</td>\n      <td>Nintendo</td>\n      <td>15.75</td>\n      <td>11.01</td>\n      <td>3.28</td>\n      <td>2.96</td>\n      <td>33.00</td>\n    </tr>\n    <tr>\n      <th>4</th>\n      <td>5</td>\n      <td>Pokemon Red/Pokemon Blue</td>\n      <td>GB</td>\n      <td>1996.0</td>\n      <td>Role-Playing</td>\n      <td>Nintendo</td>\n      <td>11.27</td>\n      <td>8.89</td>\n      <td>10.22</td>\n      <td>1.00</td>\n      <td>31.37</td>\n    </tr>\n  </tbody>\n</table>\n</div>"
     },
     "metadata": {},
     "execution_count": 2
    }
   ],
   "source": [
    "sales_df = pd.read_csv(\"../data/vgsales.csv\")\n",
    "sales_df.head()"
   ]
  },
  {
   "source": [
    "### Looking at the above we can see there are several columns that are not related to our analytical purposes. We must remove those columns "
   ],
   "cell_type": "markdown",
   "metadata": {}
  },
  {
   "cell_type": "code",
   "execution_count": 16,
   "metadata": {},
   "outputs": [],
   "source": [
    "#Remove the rank, name, genre and publisher columns\n",
    "step_one = sales_df.drop(columns=['Rank', 'Genre', 'Publisher'], axis=1)\n",
    "step_one = pd.DataFrame(step_one)"
   ]
  },
  {
   "cell_type": "code",
   "execution_count": 17,
   "metadata": {},
   "outputs": [
    {
     "output_type": "execute_result",
     "data": {
      "text/plain": [
       "                       Name Platform    Year  NA_Sales  EU_Sales  JP_Sales  \\\n",
       "0                Wii Sports      Wii  2006.0     41.49     29.02      3.77   \n",
       "1         Super Mario Bros.      NES  1985.0     29.08      3.58      6.81   \n",
       "2            Mario Kart Wii      Wii  2008.0     15.85     12.88      3.79   \n",
       "3         Wii Sports Resort      Wii  2009.0     15.75     11.01      3.28   \n",
       "4  Pokemon Red/Pokemon Blue       GB  1996.0     11.27      8.89     10.22   \n",
       "\n",
       "   Other_Sales  Global_Sales  \n",
       "0         8.46         82.74  \n",
       "1         0.77         40.24  \n",
       "2         3.31         35.82  \n",
       "3         2.96         33.00  \n",
       "4         1.00         31.37  "
      ],
      "text/html": "<div>\n<style scoped>\n    .dataframe tbody tr th:only-of-type {\n        vertical-align: middle;\n    }\n\n    .dataframe tbody tr th {\n        vertical-align: top;\n    }\n\n    .dataframe thead th {\n        text-align: right;\n    }\n</style>\n<table border=\"1\" class=\"dataframe\">\n  <thead>\n    <tr style=\"text-align: right;\">\n      <th></th>\n      <th>Name</th>\n      <th>Platform</th>\n      <th>Year</th>\n      <th>NA_Sales</th>\n      <th>EU_Sales</th>\n      <th>JP_Sales</th>\n      <th>Other_Sales</th>\n      <th>Global_Sales</th>\n    </tr>\n  </thead>\n  <tbody>\n    <tr>\n      <th>0</th>\n      <td>Wii Sports</td>\n      <td>Wii</td>\n      <td>2006.0</td>\n      <td>41.49</td>\n      <td>29.02</td>\n      <td>3.77</td>\n      <td>8.46</td>\n      <td>82.74</td>\n    </tr>\n    <tr>\n      <th>1</th>\n      <td>Super Mario Bros.</td>\n      <td>NES</td>\n      <td>1985.0</td>\n      <td>29.08</td>\n      <td>3.58</td>\n      <td>6.81</td>\n      <td>0.77</td>\n      <td>40.24</td>\n    </tr>\n    <tr>\n      <th>2</th>\n      <td>Mario Kart Wii</td>\n      <td>Wii</td>\n      <td>2008.0</td>\n      <td>15.85</td>\n      <td>12.88</td>\n      <td>3.79</td>\n      <td>3.31</td>\n      <td>35.82</td>\n    </tr>\n    <tr>\n      <th>3</th>\n      <td>Wii Sports Resort</td>\n      <td>Wii</td>\n      <td>2009.0</td>\n      <td>15.75</td>\n      <td>11.01</td>\n      <td>3.28</td>\n      <td>2.96</td>\n      <td>33.00</td>\n    </tr>\n    <tr>\n      <th>4</th>\n      <td>Pokemon Red/Pokemon Blue</td>\n      <td>GB</td>\n      <td>1996.0</td>\n      <td>11.27</td>\n      <td>8.89</td>\n      <td>10.22</td>\n      <td>1.00</td>\n      <td>31.37</td>\n    </tr>\n  </tbody>\n</table>\n</div>"
     },
     "metadata": {},
     "execution_count": 17
    }
   ],
   "source": [
    "#Display the dataframe\n",
    "step_one.head()"
   ]
  },
  {
   "source": [
    "### We have our simplified dataframe for cleaning. Now we must decide on what years to look at for the sales trends. As the findings of this project are going to help people find the best gaming platform, we want to look at the years closest to the present year, 2021. As the Year column is already in a float64 format, we do not need to convert it into another type to rank the years from the most recent to the latest "
   ],
   "cell_type": "markdown",
   "metadata": {}
  },
  {
   "cell_type": "code",
   "execution_count": 18,
   "metadata": {},
   "outputs": [
    {
     "output_type": "execute_result",
     "data": {
      "text/plain": [
       "array([  nan, 2020., 2017., 2016., 2015., 2014., 2013., 2012., 2011.,\n",
       "       2010., 2009., 2008., 2007., 2006., 2005., 2004., 2003., 2002.,\n",
       "       2001., 2000., 1999., 1998., 1997., 1996., 1995., 1994., 1993.,\n",
       "       1992., 1991., 1990., 1989., 1988., 1987., 1986., 1985., 1984.,\n",
       "       1983., 1982., 1981., 1980.])"
      ]
     },
     "metadata": {},
     "execution_count": 18
    }
   ],
   "source": [
    "#Rank the years column from highest to lowest to find the years to analyse \n",
    "\n",
    "    #Grab the years column and find all the unique values within it \n",
    "years = sales_df[\"Year\"].unique()\n",
    "    #Use nump to sort the above array into decending order \n",
    "years_sorted = np.sort(years)[::-1]\n",
    "    #Display the results \n",
    "years_sorted"
   ]
  },
  {
   "source": [
    "### Looking at the above we can see that 2020 is the year that is closest to the present year. However, the year after that is 2017. There is a two year gap. The 2020 data cannot be used in creating a reliable analysis for trends over time. Therefore, the data for sales will look at 2017, 2016, 2015, and 2014. \n"
   ],
   "cell_type": "markdown",
   "metadata": {}
  },
  {
   "cell_type": "code",
   "execution_count": 29,
   "metadata": {},
   "outputs": [
    {
     "output_type": "execute_result",
     "data": {
      "text/plain": [
       "                          Name Platform    Year  NA_Sales  EU_Sales  JP_Sales  \\\n",
       "16          Grand Theft Auto V      PS3  2013.0      7.01      9.27      0.97   \n",
       "23          Grand Theft Auto V     X360  2013.0      9.63      5.31      0.06   \n",
       "32         Pokemon X/Pokemon Y      3DS  2013.0      5.17      4.05      4.34   \n",
       "33   Call of Duty: Black Ops 3      PS4  2015.0      5.77      5.81      0.35   \n",
       "34  Call of Duty: Black Ops II      PS3  2012.0      4.99      5.88      0.65   \n",
       "\n",
       "    Other_Sales  Global_Sales  \n",
       "16         4.14         21.40  \n",
       "23         1.38         16.38  \n",
       "32         0.79         14.35  \n",
       "33         2.31         14.24  \n",
       "34         2.52         14.03  "
      ],
      "text/html": "<div>\n<style scoped>\n    .dataframe tbody tr th:only-of-type {\n        vertical-align: middle;\n    }\n\n    .dataframe tbody tr th {\n        vertical-align: top;\n    }\n\n    .dataframe thead th {\n        text-align: right;\n    }\n</style>\n<table border=\"1\" class=\"dataframe\">\n  <thead>\n    <tr style=\"text-align: right;\">\n      <th></th>\n      <th>Name</th>\n      <th>Platform</th>\n      <th>Year</th>\n      <th>NA_Sales</th>\n      <th>EU_Sales</th>\n      <th>JP_Sales</th>\n      <th>Other_Sales</th>\n      <th>Global_Sales</th>\n    </tr>\n  </thead>\n  <tbody>\n    <tr>\n      <th>16</th>\n      <td>Grand Theft Auto V</td>\n      <td>PS3</td>\n      <td>2013.0</td>\n      <td>7.01</td>\n      <td>9.27</td>\n      <td>0.97</td>\n      <td>4.14</td>\n      <td>21.40</td>\n    </tr>\n    <tr>\n      <th>23</th>\n      <td>Grand Theft Auto V</td>\n      <td>X360</td>\n      <td>2013.0</td>\n      <td>9.63</td>\n      <td>5.31</td>\n      <td>0.06</td>\n      <td>1.38</td>\n      <td>16.38</td>\n    </tr>\n    <tr>\n      <th>32</th>\n      <td>Pokemon X/Pokemon Y</td>\n      <td>3DS</td>\n      <td>2013.0</td>\n      <td>5.17</td>\n      <td>4.05</td>\n      <td>4.34</td>\n      <td>0.79</td>\n      <td>14.35</td>\n    </tr>\n    <tr>\n      <th>33</th>\n      <td>Call of Duty: Black Ops 3</td>\n      <td>PS4</td>\n      <td>2015.0</td>\n      <td>5.77</td>\n      <td>5.81</td>\n      <td>0.35</td>\n      <td>2.31</td>\n      <td>14.24</td>\n    </tr>\n    <tr>\n      <th>34</th>\n      <td>Call of Duty: Black Ops II</td>\n      <td>PS3</td>\n      <td>2012.0</td>\n      <td>4.99</td>\n      <td>5.88</td>\n      <td>0.65</td>\n      <td>2.52</td>\n      <td>14.03</td>\n    </tr>\n  </tbody>\n</table>\n</div>"
     },
     "metadata": {},
     "execution_count": 29
    }
   ],
   "source": [
    "### The next thing we want to do is refine our dataframe even further and for it to contain only the years we want to analyse. The other years are of no importance to our findings/ data story \n",
    "step_two_pt1 = step_one.drop(step_one[step_one.Year <2012].index)\n",
    "step_two = step_two_pt1.drop(step_two_pt1[step_two_pt1.Year == 2020].index)\n",
    "step_two.head()"
   ]
  },
  {
   "source": [
    "### Just quickly looking back to when we ranked the years to find the most recent years, the value \"nan\" appears in the array of all the years in the dataset. NaN- also known as \"Not a Number\"- values will not have been removed in the above step. We must do this in the next step to ensure clean data is available to us "
   ],
   "cell_type": "markdown",
   "metadata": {}
  },
  {
   "cell_type": "code",
   "execution_count": 30,
   "metadata": {},
   "outputs": [
    {
     "output_type": "execute_result",
     "data": {
      "text/plain": [
       "                          Name Platform    Year  NA_Sales  EU_Sales  JP_Sales  \\\n",
       "16          Grand Theft Auto V      PS3  2013.0      7.01      9.27      0.97   \n",
       "23          Grand Theft Auto V     X360  2013.0      9.63      5.31      0.06   \n",
       "32         Pokemon X/Pokemon Y      3DS  2013.0      5.17      4.05      4.34   \n",
       "33   Call of Duty: Black Ops 3      PS4  2015.0      5.77      5.81      0.35   \n",
       "34  Call of Duty: Black Ops II      PS3  2012.0      4.99      5.88      0.65   \n",
       "\n",
       "    Other_Sales  Global_Sales  \n",
       "16         4.14         21.40  \n",
       "23         1.38         16.38  \n",
       "32         0.79         14.35  \n",
       "33         2.31         14.24  \n",
       "34         2.52         14.03  "
      ],
      "text/html": "<div>\n<style scoped>\n    .dataframe tbody tr th:only-of-type {\n        vertical-align: middle;\n    }\n\n    .dataframe tbody tr th {\n        vertical-align: top;\n    }\n\n    .dataframe thead th {\n        text-align: right;\n    }\n</style>\n<table border=\"1\" class=\"dataframe\">\n  <thead>\n    <tr style=\"text-align: right;\">\n      <th></th>\n      <th>Name</th>\n      <th>Platform</th>\n      <th>Year</th>\n      <th>NA_Sales</th>\n      <th>EU_Sales</th>\n      <th>JP_Sales</th>\n      <th>Other_Sales</th>\n      <th>Global_Sales</th>\n    </tr>\n  </thead>\n  <tbody>\n    <tr>\n      <th>16</th>\n      <td>Grand Theft Auto V</td>\n      <td>PS3</td>\n      <td>2013.0</td>\n      <td>7.01</td>\n      <td>9.27</td>\n      <td>0.97</td>\n      <td>4.14</td>\n      <td>21.40</td>\n    </tr>\n    <tr>\n      <th>23</th>\n      <td>Grand Theft Auto V</td>\n      <td>X360</td>\n      <td>2013.0</td>\n      <td>9.63</td>\n      <td>5.31</td>\n      <td>0.06</td>\n      <td>1.38</td>\n      <td>16.38</td>\n    </tr>\n    <tr>\n      <th>32</th>\n      <td>Pokemon X/Pokemon Y</td>\n      <td>3DS</td>\n      <td>2013.0</td>\n      <td>5.17</td>\n      <td>4.05</td>\n      <td>4.34</td>\n      <td>0.79</td>\n      <td>14.35</td>\n    </tr>\n    <tr>\n      <th>33</th>\n      <td>Call of Duty: Black Ops 3</td>\n      <td>PS4</td>\n      <td>2015.0</td>\n      <td>5.77</td>\n      <td>5.81</td>\n      <td>0.35</td>\n      <td>2.31</td>\n      <td>14.24</td>\n    </tr>\n    <tr>\n      <th>34</th>\n      <td>Call of Duty: Black Ops II</td>\n      <td>PS3</td>\n      <td>2012.0</td>\n      <td>4.99</td>\n      <td>5.88</td>\n      <td>0.65</td>\n      <td>2.52</td>\n      <td>14.03</td>\n    </tr>\n  </tbody>\n</table>\n</div>"
     },
     "metadata": {},
     "execution_count": 30
    }
   ],
   "source": [
    "#Remove all rows that contain a NaN value in the Years column\n",
    "step_three = step_two[step_two['Year'].notna()]\n",
    "step_three.head()"
   ]
  },
  {
   "cell_type": "code",
   "execution_count": 31,
   "metadata": {},
   "outputs": [
    {
     "output_type": "execute_result",
     "data": {
      "text/plain": [
       "array([2013., 2015., 2012., 2014., 2016., 2017.])"
      ]
     },
     "metadata": {},
     "execution_count": 31
    }
   ],
   "source": [
    "#Check that all NaN are removed from the years column \n",
    "check_years = step_three[\"Year\"].unique()\n",
    "check_years"
   ]
  },
  {
   "source": [
    "### We can further clean the data to only contain the platforms that pertain to our investigation\n",
    "\n",
    "### The platforms we need to extract are PlayStation 4, XboxOne, PlayStation Vita WiiU and PC. The issue with this dataset is that they are listed as acroynms and the other two datasets list the platforms by their names. The first step we will need to do is extract these acronyms and make a dataframe that only consists of the platforms that are relevant "
   ],
   "cell_type": "markdown",
   "metadata": {}
  },
  {
   "cell_type": "code",
   "execution_count": 32,
   "metadata": {},
   "outputs": [
    {
     "output_type": "execute_result",
     "data": {
      "text/plain": [
       "                                                    Name Platform    Year  \\\n",
       "33                             Call of Duty: Black Ops 3      PS4  2015.0   \n",
       "44                                    Grand Theft Auto V      PS4  2014.0   \n",
       "77                                               FIFA 16      PS4  2015.0   \n",
       "92                          Star Wars Battlefront (2015)      PS4  2015.0   \n",
       "93                        Call of Duty: Advanced Warfare      PS4  2014.0   \n",
       "...                                                  ...      ...     ...   \n",
       "16566                                     End of Nations       PC  2012.0   \n",
       "16569                                 Resident Evil 4 HD     XOne  2016.0   \n",
       "16570                      Farming 2017 - The Simulation      PS4  2016.0   \n",
       "16576                                  Rugby Challenge 3     XOne  2016.0   \n",
       "16589  Chou Ezaru wa Akai Hana: Koi wa Tsuki ni Shiru...      PSV  2016.0   \n",
       "\n",
       "       NA_Sales  EU_Sales  JP_Sales  Other_Sales  Global_Sales  \n",
       "33         5.77      5.81      0.35         2.31         14.24  \n",
       "44         3.80      5.81      0.36         2.02         11.98  \n",
       "77         1.11      6.06      0.06         1.26          8.49  \n",
       "92         2.93      3.29      0.22         1.23          7.67  \n",
       "93         2.80      3.30      0.14         1.37          7.60  \n",
       "...         ...       ...       ...          ...           ...  \n",
       "16566      0.01      0.00      0.00         0.00          0.01  \n",
       "16569      0.01      0.00      0.00         0.00          0.01  \n",
       "16570      0.00      0.01      0.00         0.00          0.01  \n",
       "16576      0.00      0.01      0.00         0.00          0.01  \n",
       "16589      0.00      0.00      0.01         0.00          0.01  \n",
       "\n",
       "[1317 rows x 8 columns]"
      ],
      "text/html": "<div>\n<style scoped>\n    .dataframe tbody tr th:only-of-type {\n        vertical-align: middle;\n    }\n\n    .dataframe tbody tr th {\n        vertical-align: top;\n    }\n\n    .dataframe thead th {\n        text-align: right;\n    }\n</style>\n<table border=\"1\" class=\"dataframe\">\n  <thead>\n    <tr style=\"text-align: right;\">\n      <th></th>\n      <th>Name</th>\n      <th>Platform</th>\n      <th>Year</th>\n      <th>NA_Sales</th>\n      <th>EU_Sales</th>\n      <th>JP_Sales</th>\n      <th>Other_Sales</th>\n      <th>Global_Sales</th>\n    </tr>\n  </thead>\n  <tbody>\n    <tr>\n      <th>33</th>\n      <td>Call of Duty: Black Ops 3</td>\n      <td>PS4</td>\n      <td>2015.0</td>\n      <td>5.77</td>\n      <td>5.81</td>\n      <td>0.35</td>\n      <td>2.31</td>\n      <td>14.24</td>\n    </tr>\n    <tr>\n      <th>44</th>\n      <td>Grand Theft Auto V</td>\n      <td>PS4</td>\n      <td>2014.0</td>\n      <td>3.80</td>\n      <td>5.81</td>\n      <td>0.36</td>\n      <td>2.02</td>\n      <td>11.98</td>\n    </tr>\n    <tr>\n      <th>77</th>\n      <td>FIFA 16</td>\n      <td>PS4</td>\n      <td>2015.0</td>\n      <td>1.11</td>\n      <td>6.06</td>\n      <td>0.06</td>\n      <td>1.26</td>\n      <td>8.49</td>\n    </tr>\n    <tr>\n      <th>92</th>\n      <td>Star Wars Battlefront (2015)</td>\n      <td>PS4</td>\n      <td>2015.0</td>\n      <td>2.93</td>\n      <td>3.29</td>\n      <td>0.22</td>\n      <td>1.23</td>\n      <td>7.67</td>\n    </tr>\n    <tr>\n      <th>93</th>\n      <td>Call of Duty: Advanced Warfare</td>\n      <td>PS4</td>\n      <td>2014.0</td>\n      <td>2.80</td>\n      <td>3.30</td>\n      <td>0.14</td>\n      <td>1.37</td>\n      <td>7.60</td>\n    </tr>\n    <tr>\n      <th>...</th>\n      <td>...</td>\n      <td>...</td>\n      <td>...</td>\n      <td>...</td>\n      <td>...</td>\n      <td>...</td>\n      <td>...</td>\n      <td>...</td>\n    </tr>\n    <tr>\n      <th>16566</th>\n      <td>End of Nations</td>\n      <td>PC</td>\n      <td>2012.0</td>\n      <td>0.01</td>\n      <td>0.00</td>\n      <td>0.00</td>\n      <td>0.00</td>\n      <td>0.01</td>\n    </tr>\n    <tr>\n      <th>16569</th>\n      <td>Resident Evil 4 HD</td>\n      <td>XOne</td>\n      <td>2016.0</td>\n      <td>0.01</td>\n      <td>0.00</td>\n      <td>0.00</td>\n      <td>0.00</td>\n      <td>0.01</td>\n    </tr>\n    <tr>\n      <th>16570</th>\n      <td>Farming 2017 - The Simulation</td>\n      <td>PS4</td>\n      <td>2016.0</td>\n      <td>0.00</td>\n      <td>0.01</td>\n      <td>0.00</td>\n      <td>0.00</td>\n      <td>0.01</td>\n    </tr>\n    <tr>\n      <th>16576</th>\n      <td>Rugby Challenge 3</td>\n      <td>XOne</td>\n      <td>2016.0</td>\n      <td>0.00</td>\n      <td>0.01</td>\n      <td>0.00</td>\n      <td>0.00</td>\n      <td>0.01</td>\n    </tr>\n    <tr>\n      <th>16589</th>\n      <td>Chou Ezaru wa Akai Hana: Koi wa Tsuki ni Shiru...</td>\n      <td>PSV</td>\n      <td>2016.0</td>\n      <td>0.00</td>\n      <td>0.00</td>\n      <td>0.01</td>\n      <td>0.00</td>\n      <td>0.01</td>\n    </tr>\n  </tbody>\n</table>\n<p>1317 rows × 8 columns</p>\n</div>"
     },
     "metadata": {},
     "execution_count": 32
    }
   ],
   "source": [
    "#Use \".loc()\" to filter the dataframe to now only consist of relevant Platforms \n",
    "step_four = step_three.loc[step_three[\"Platform\"].isin([\"XOne\",\"PS4\",\"WiiU\",\"PC\",\"PSV\"]), :]\n",
    "#Display the dataframe\n",
    "step_four"
   ]
  },
  {
   "cell_type": "code",
   "execution_count": 33,
   "metadata": {},
   "outputs": [
    {
     "output_type": "execute_result",
     "data": {
      "text/plain": [
       "array(['PS4', 'XOne', 'WiiU', 'PC', 'PSV'], dtype=object)"
      ]
     },
     "metadata": {},
     "execution_count": 33
    }
   ],
   "source": [
    "#Confirm the that the results of the platform column are what is required\n",
    "platforms_check = step_four[\"Platform\"].unique()\n",
    "platforms_check"
   ]
  },
  {
   "source": [
    "### The next step we need to take is to rename some of the values in the Platform column so that it can be used as a primary key in a SQL database. This is beacause this dataframe uses the abbreviated version of the platform name where as the other two use their fullnames. "
   ],
   "cell_type": "markdown",
   "metadata": {}
  },
  {
   "source": [
    "#Use the \".replace()\" function to change the necessary values\n",
    "step_four[\"Platform\"].replace({\"PS4\": \"PlayStation4\", \"XOne\":\"XboxOne\", \"PSV\":\"PlayStationVita\"}, inplace=True)"
   ],
   "cell_type": "code",
   "metadata": {},
   "execution_count": 34,
   "outputs": []
  },
  {
   "cell_type": "code",
   "execution_count": 35,
   "metadata": {},
   "outputs": [
    {
     "output_type": "execute_result",
     "data": {
      "text/plain": [
       "                                                    Name         Platform  \\\n",
       "33                             Call of Duty: Black Ops 3     PlayStation4   \n",
       "44                                    Grand Theft Auto V     PlayStation4   \n",
       "77                                               FIFA 16     PlayStation4   \n",
       "92                          Star Wars Battlefront (2015)     PlayStation4   \n",
       "93                        Call of Duty: Advanced Warfare     PlayStation4   \n",
       "...                                                  ...              ...   \n",
       "16566                                     End of Nations               PC   \n",
       "16569                                 Resident Evil 4 HD          XboxOne   \n",
       "16570                      Farming 2017 - The Simulation     PlayStation4   \n",
       "16576                                  Rugby Challenge 3          XboxOne   \n",
       "16589  Chou Ezaru wa Akai Hana: Koi wa Tsuki ni Shiru...  PlayStationVita   \n",
       "\n",
       "         Year  NA_Sales  EU_Sales  JP_Sales  Other_Sales  Global_Sales  \n",
       "33     2015.0      5.77      5.81      0.35         2.31         14.24  \n",
       "44     2014.0      3.80      5.81      0.36         2.02         11.98  \n",
       "77     2015.0      1.11      6.06      0.06         1.26          8.49  \n",
       "92     2015.0      2.93      3.29      0.22         1.23          7.67  \n",
       "93     2014.0      2.80      3.30      0.14         1.37          7.60  \n",
       "...       ...       ...       ...       ...          ...           ...  \n",
       "16566  2012.0      0.01      0.00      0.00         0.00          0.01  \n",
       "16569  2016.0      0.01      0.00      0.00         0.00          0.01  \n",
       "16570  2016.0      0.00      0.01      0.00         0.00          0.01  \n",
       "16576  2016.0      0.00      0.01      0.00         0.00          0.01  \n",
       "16589  2016.0      0.00      0.00      0.01         0.00          0.01  \n",
       "\n",
       "[1317 rows x 8 columns]"
      ],
      "text/html": "<div>\n<style scoped>\n    .dataframe tbody tr th:only-of-type {\n        vertical-align: middle;\n    }\n\n    .dataframe tbody tr th {\n        vertical-align: top;\n    }\n\n    .dataframe thead th {\n        text-align: right;\n    }\n</style>\n<table border=\"1\" class=\"dataframe\">\n  <thead>\n    <tr style=\"text-align: right;\">\n      <th></th>\n      <th>Name</th>\n      <th>Platform</th>\n      <th>Year</th>\n      <th>NA_Sales</th>\n      <th>EU_Sales</th>\n      <th>JP_Sales</th>\n      <th>Other_Sales</th>\n      <th>Global_Sales</th>\n    </tr>\n  </thead>\n  <tbody>\n    <tr>\n      <th>33</th>\n      <td>Call of Duty: Black Ops 3</td>\n      <td>PlayStation4</td>\n      <td>2015.0</td>\n      <td>5.77</td>\n      <td>5.81</td>\n      <td>0.35</td>\n      <td>2.31</td>\n      <td>14.24</td>\n    </tr>\n    <tr>\n      <th>44</th>\n      <td>Grand Theft Auto V</td>\n      <td>PlayStation4</td>\n      <td>2014.0</td>\n      <td>3.80</td>\n      <td>5.81</td>\n      <td>0.36</td>\n      <td>2.02</td>\n      <td>11.98</td>\n    </tr>\n    <tr>\n      <th>77</th>\n      <td>FIFA 16</td>\n      <td>PlayStation4</td>\n      <td>2015.0</td>\n      <td>1.11</td>\n      <td>6.06</td>\n      <td>0.06</td>\n      <td>1.26</td>\n      <td>8.49</td>\n    </tr>\n    <tr>\n      <th>92</th>\n      <td>Star Wars Battlefront (2015)</td>\n      <td>PlayStation4</td>\n      <td>2015.0</td>\n      <td>2.93</td>\n      <td>3.29</td>\n      <td>0.22</td>\n      <td>1.23</td>\n      <td>7.67</td>\n    </tr>\n    <tr>\n      <th>93</th>\n      <td>Call of Duty: Advanced Warfare</td>\n      <td>PlayStation4</td>\n      <td>2014.0</td>\n      <td>2.80</td>\n      <td>3.30</td>\n      <td>0.14</td>\n      <td>1.37</td>\n      <td>7.60</td>\n    </tr>\n    <tr>\n      <th>...</th>\n      <td>...</td>\n      <td>...</td>\n      <td>...</td>\n      <td>...</td>\n      <td>...</td>\n      <td>...</td>\n      <td>...</td>\n      <td>...</td>\n    </tr>\n    <tr>\n      <th>16566</th>\n      <td>End of Nations</td>\n      <td>PC</td>\n      <td>2012.0</td>\n      <td>0.01</td>\n      <td>0.00</td>\n      <td>0.00</td>\n      <td>0.00</td>\n      <td>0.01</td>\n    </tr>\n    <tr>\n      <th>16569</th>\n      <td>Resident Evil 4 HD</td>\n      <td>XboxOne</td>\n      <td>2016.0</td>\n      <td>0.01</td>\n      <td>0.00</td>\n      <td>0.00</td>\n      <td>0.00</td>\n      <td>0.01</td>\n    </tr>\n    <tr>\n      <th>16570</th>\n      <td>Farming 2017 - The Simulation</td>\n      <td>PlayStation4</td>\n      <td>2016.0</td>\n      <td>0.00</td>\n      <td>0.01</td>\n      <td>0.00</td>\n      <td>0.00</td>\n      <td>0.01</td>\n    </tr>\n    <tr>\n      <th>16576</th>\n      <td>Rugby Challenge 3</td>\n      <td>XboxOne</td>\n      <td>2016.0</td>\n      <td>0.00</td>\n      <td>0.01</td>\n      <td>0.00</td>\n      <td>0.00</td>\n      <td>0.01</td>\n    </tr>\n    <tr>\n      <th>16589</th>\n      <td>Chou Ezaru wa Akai Hana: Koi wa Tsuki ni Shiru...</td>\n      <td>PlayStationVita</td>\n      <td>2016.0</td>\n      <td>0.00</td>\n      <td>0.00</td>\n      <td>0.01</td>\n      <td>0.00</td>\n      <td>0.01</td>\n    </tr>\n  </tbody>\n</table>\n<p>1317 rows × 8 columns</p>\n</div>"
     },
     "metadata": {},
     "execution_count": 35
    }
   ],
   "source": [
    "#Display the dataframe\n",
    "step_four"
   ]
  },
  {
   "source": [
    "### Finally check for any NaN values in the rows and if they are present, drop them from the dataframe entirely. Once this has been done, reset the index values and export the data to the \"cleaned_data\" folder "
   ],
   "cell_type": "markdown",
   "metadata": {}
  },
  {
   "cell_type": "code",
   "execution_count": 36,
   "metadata": {},
   "outputs": [
    {
     "output_type": "execute_result",
     "data": {
      "text/plain": [
       "False"
      ]
     },
     "metadata": {},
     "execution_count": 36
    }
   ],
   "source": [
    "#Check for NaN in the entire dataframe using \".isnull()\" and \".any()\"\n",
    "step_four.isnull().values.any()"
   ]
  },
  {
   "cell_type": "code",
   "execution_count": 37,
   "metadata": {},
   "outputs": [
    {
     "output_type": "execute_result",
     "data": {
      "text/plain": [
       "                                                   Name         Platform  \\\n",
       "0                             Call of Duty: Black Ops 3     PlayStation4   \n",
       "1                                    Grand Theft Auto V     PlayStation4   \n",
       "2                                               FIFA 16     PlayStation4   \n",
       "3                          Star Wars Battlefront (2015)     PlayStation4   \n",
       "4                        Call of Duty: Advanced Warfare     PlayStation4   \n",
       "...                                                 ...              ...   \n",
       "1312                                     End of Nations               PC   \n",
       "1313                                 Resident Evil 4 HD          XboxOne   \n",
       "1314                      Farming 2017 - The Simulation     PlayStation4   \n",
       "1315                                  Rugby Challenge 3          XboxOne   \n",
       "1316  Chou Ezaru wa Akai Hana: Koi wa Tsuki ni Shiru...  PlayStationVita   \n",
       "\n",
       "        Year  NA_Sales  EU_Sales  JP_Sales  Other_Sales  Global_Sales  \n",
       "0     2015.0      5.77      5.81      0.35         2.31         14.24  \n",
       "1     2014.0      3.80      5.81      0.36         2.02         11.98  \n",
       "2     2015.0      1.11      6.06      0.06         1.26          8.49  \n",
       "3     2015.0      2.93      3.29      0.22         1.23          7.67  \n",
       "4     2014.0      2.80      3.30      0.14         1.37          7.60  \n",
       "...      ...       ...       ...       ...          ...           ...  \n",
       "1312  2012.0      0.01      0.00      0.00         0.00          0.01  \n",
       "1313  2016.0      0.01      0.00      0.00         0.00          0.01  \n",
       "1314  2016.0      0.00      0.01      0.00         0.00          0.01  \n",
       "1315  2016.0      0.00      0.01      0.00         0.00          0.01  \n",
       "1316  2016.0      0.00      0.00      0.01         0.00          0.01  \n",
       "\n",
       "[1317 rows x 8 columns]"
      ],
      "text/html": "<div>\n<style scoped>\n    .dataframe tbody tr th:only-of-type {\n        vertical-align: middle;\n    }\n\n    .dataframe tbody tr th {\n        vertical-align: top;\n    }\n\n    .dataframe thead th {\n        text-align: right;\n    }\n</style>\n<table border=\"1\" class=\"dataframe\">\n  <thead>\n    <tr style=\"text-align: right;\">\n      <th></th>\n      <th>Name</th>\n      <th>Platform</th>\n      <th>Year</th>\n      <th>NA_Sales</th>\n      <th>EU_Sales</th>\n      <th>JP_Sales</th>\n      <th>Other_Sales</th>\n      <th>Global_Sales</th>\n    </tr>\n  </thead>\n  <tbody>\n    <tr>\n      <th>0</th>\n      <td>Call of Duty: Black Ops 3</td>\n      <td>PlayStation4</td>\n      <td>2015.0</td>\n      <td>5.77</td>\n      <td>5.81</td>\n      <td>0.35</td>\n      <td>2.31</td>\n      <td>14.24</td>\n    </tr>\n    <tr>\n      <th>1</th>\n      <td>Grand Theft Auto V</td>\n      <td>PlayStation4</td>\n      <td>2014.0</td>\n      <td>3.80</td>\n      <td>5.81</td>\n      <td>0.36</td>\n      <td>2.02</td>\n      <td>11.98</td>\n    </tr>\n    <tr>\n      <th>2</th>\n      <td>FIFA 16</td>\n      <td>PlayStation4</td>\n      <td>2015.0</td>\n      <td>1.11</td>\n      <td>6.06</td>\n      <td>0.06</td>\n      <td>1.26</td>\n      <td>8.49</td>\n    </tr>\n    <tr>\n      <th>3</th>\n      <td>Star Wars Battlefront (2015)</td>\n      <td>PlayStation4</td>\n      <td>2015.0</td>\n      <td>2.93</td>\n      <td>3.29</td>\n      <td>0.22</td>\n      <td>1.23</td>\n      <td>7.67</td>\n    </tr>\n    <tr>\n      <th>4</th>\n      <td>Call of Duty: Advanced Warfare</td>\n      <td>PlayStation4</td>\n      <td>2014.0</td>\n      <td>2.80</td>\n      <td>3.30</td>\n      <td>0.14</td>\n      <td>1.37</td>\n      <td>7.60</td>\n    </tr>\n    <tr>\n      <th>...</th>\n      <td>...</td>\n      <td>...</td>\n      <td>...</td>\n      <td>...</td>\n      <td>...</td>\n      <td>...</td>\n      <td>...</td>\n      <td>...</td>\n    </tr>\n    <tr>\n      <th>1312</th>\n      <td>End of Nations</td>\n      <td>PC</td>\n      <td>2012.0</td>\n      <td>0.01</td>\n      <td>0.00</td>\n      <td>0.00</td>\n      <td>0.00</td>\n      <td>0.01</td>\n    </tr>\n    <tr>\n      <th>1313</th>\n      <td>Resident Evil 4 HD</td>\n      <td>XboxOne</td>\n      <td>2016.0</td>\n      <td>0.01</td>\n      <td>0.00</td>\n      <td>0.00</td>\n      <td>0.00</td>\n      <td>0.01</td>\n    </tr>\n    <tr>\n      <th>1314</th>\n      <td>Farming 2017 - The Simulation</td>\n      <td>PlayStation4</td>\n      <td>2016.0</td>\n      <td>0.00</td>\n      <td>0.01</td>\n      <td>0.00</td>\n      <td>0.00</td>\n      <td>0.01</td>\n    </tr>\n    <tr>\n      <th>1315</th>\n      <td>Rugby Challenge 3</td>\n      <td>XboxOne</td>\n      <td>2016.0</td>\n      <td>0.00</td>\n      <td>0.01</td>\n      <td>0.00</td>\n      <td>0.00</td>\n      <td>0.01</td>\n    </tr>\n    <tr>\n      <th>1316</th>\n      <td>Chou Ezaru wa Akai Hana: Koi wa Tsuki ni Shiru...</td>\n      <td>PlayStationVita</td>\n      <td>2016.0</td>\n      <td>0.00</td>\n      <td>0.00</td>\n      <td>0.01</td>\n      <td>0.00</td>\n      <td>0.01</td>\n    </tr>\n  </tbody>\n</table>\n<p>1317 rows × 8 columns</p>\n</div>"
     },
     "metadata": {},
     "execution_count": 37
    }
   ],
   "source": [
    "#There are no NaN values in the dataframe. The index can now be reset \n",
    "step_five = step_four.reset_index(drop=True)\n",
    "step_five"
   ]
  },
  {
   "cell_type": "code",
   "execution_count": 39,
   "metadata": {},
   "outputs": [],
   "source": [
    "#Export the dataframe as a csv to the \"cleaned_data\" folder\n",
    "step_five.to_csv(\"../cleaned_data/sales.csv\", index=False)"
   ]
  },
  {
   "cell_type": "code",
   "execution_count": null,
   "metadata": {},
   "outputs": [],
   "source": []
  }
 ]
}