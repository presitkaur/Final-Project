{
 "metadata": {
  "language_info": {
   "codemirror_mode": {
    "name": "ipython",
    "version": 3
   },
   "file_extension": ".py",
   "mimetype": "text/x-python",
   "name": "python",
   "nbconvert_exporter": "python",
   "pygments_lexer": "ipython3",
   "version": "3.9.2"
  },
  "orig_nbformat": 2,
  "kernelspec": {
   "name": "python392jvsc74a57bd063fd5069d213b44bf678585dea6b12cceca9941eaf7f819626cde1f2670de90d",
   "display_name": "Python 3.9.2 64-bit"
  },
  "metadata": {
   "interpreter": {
    "hash": "63fd5069d213b44bf678585dea6b12cceca9941eaf7f819626cde1f2670de90d"
   }
  }
 },
 "nbformat": 4,
 "nbformat_minor": 2,
 "cells": [
  {
   "source": [
    "# This file will look at cleaning the dataframe containing the reviews information "
   ],
   "cell_type": "markdown",
   "metadata": {}
  },
  {
   "cell_type": "code",
   "execution_count": 11,
   "metadata": {},
   "outputs": [],
   "source": [
    "#Import any required dependencies \n",
    "import pandas as pd \n",
    "import numpy as np "
   ]
  },
  {
   "cell_type": "code",
   "execution_count": 12,
   "metadata": {},
   "outputs": [
    {
     "output_type": "execute_result",
     "data": {
      "text/plain": [
       "   Unnamed: 0                                 Title    Platform  Userscore  \\\n",
       "0           0  The Legend of Zelda: Ocarina of Time  Nintendo64         10   \n",
       "1           1  The Legend of Zelda: Ocarina of Time  Nintendo64         10   \n",
       "2           2  The Legend of Zelda: Ocarina of Time  Nintendo64         10   \n",
       "3           3  The Legend of Zelda: Ocarina of Time  Nintendo64         10   \n",
       "4           4  The Legend of Zelda: Ocarina of Time  Nintendo64         10   \n",
       "\n",
       "                                             Comment    Username  \n",
       "0  Everything in OoT is so near at perfection, it...  SirCaestus  \n",
       "1  I won't bore you with what everyone is already...    Kaistlin  \n",
       "2  Anyone who gives the masterpiece below a 7 or ...      Jacody  \n",
       "3  I'm one of those people who think that this is...  doodlerman  \n",
       "4   This game is the highest rated game on Metacr...     StevenA  "
      ],
      "text/html": "<div>\n<style scoped>\n    .dataframe tbody tr th:only-of-type {\n        vertical-align: middle;\n    }\n\n    .dataframe tbody tr th {\n        vertical-align: top;\n    }\n\n    .dataframe thead th {\n        text-align: right;\n    }\n</style>\n<table border=\"1\" class=\"dataframe\">\n  <thead>\n    <tr style=\"text-align: right;\">\n      <th></th>\n      <th>Unnamed: 0</th>\n      <th>Title</th>\n      <th>Platform</th>\n      <th>Userscore</th>\n      <th>Comment</th>\n      <th>Username</th>\n    </tr>\n  </thead>\n  <tbody>\n    <tr>\n      <th>0</th>\n      <td>0</td>\n      <td>The Legend of Zelda: Ocarina of Time</td>\n      <td>Nintendo64</td>\n      <td>10</td>\n      <td>Everything in OoT is so near at perfection, it...</td>\n      <td>SirCaestus</td>\n    </tr>\n    <tr>\n      <th>1</th>\n      <td>1</td>\n      <td>The Legend of Zelda: Ocarina of Time</td>\n      <td>Nintendo64</td>\n      <td>10</td>\n      <td>I won't bore you with what everyone is already...</td>\n      <td>Kaistlin</td>\n    </tr>\n    <tr>\n      <th>2</th>\n      <td>2</td>\n      <td>The Legend of Zelda: Ocarina of Time</td>\n      <td>Nintendo64</td>\n      <td>10</td>\n      <td>Anyone who gives the masterpiece below a 7 or ...</td>\n      <td>Jacody</td>\n    </tr>\n    <tr>\n      <th>3</th>\n      <td>3</td>\n      <td>The Legend of Zelda: Ocarina of Time</td>\n      <td>Nintendo64</td>\n      <td>10</td>\n      <td>I'm one of those people who think that this is...</td>\n      <td>doodlerman</td>\n    </tr>\n    <tr>\n      <th>4</th>\n      <td>4</td>\n      <td>The Legend of Zelda: Ocarina of Time</td>\n      <td>Nintendo64</td>\n      <td>10</td>\n      <td>This game is the highest rated game on Metacr...</td>\n      <td>StevenA</td>\n    </tr>\n  </tbody>\n</table>\n</div>"
     },
     "metadata": {},
     "execution_count": 12
    }
   ],
   "source": [
    "#Read in the reviews dataframe \n",
    "review_df = pd.read_csv(\"../data/metacritic_game_user_comments.csv\")\n",
    "review_df.head()"
   ]
  },
  {
   "source": [
    "### The original file is almost 1GB in size. It is especially import to remove unnecessary information from this dataframe as the timeframe for this project will not allow us to analyse all the reviews for the platforms. We can start this process by first deleting irrelevant columns "
   ],
   "cell_type": "markdown",
   "metadata": {}
  },
  {
   "cell_type": "code",
   "execution_count": 15,
   "metadata": {},
   "outputs": [
    {
     "output_type": "execute_result",
     "data": {
      "text/plain": [
       "                                  Title    Platform  Userscore  \\\n",
       "0  The Legend of Zelda: Ocarina of Time  Nintendo64         10   \n",
       "1  The Legend of Zelda: Ocarina of Time  Nintendo64         10   \n",
       "2  The Legend of Zelda: Ocarina of Time  Nintendo64         10   \n",
       "3  The Legend of Zelda: Ocarina of Time  Nintendo64         10   \n",
       "4  The Legend of Zelda: Ocarina of Time  Nintendo64         10   \n",
       "\n",
       "                                             Comment  \n",
       "0  Everything in OoT is so near at perfection, it...  \n",
       "1  I won't bore you with what everyone is already...  \n",
       "2  Anyone who gives the masterpiece below a 7 or ...  \n",
       "3  I'm one of those people who think that this is...  \n",
       "4   This game is the highest rated game on Metacr...  "
      ],
      "text/html": "<div>\n<style scoped>\n    .dataframe tbody tr th:only-of-type {\n        vertical-align: middle;\n    }\n\n    .dataframe tbody tr th {\n        vertical-align: top;\n    }\n\n    .dataframe thead th {\n        text-align: right;\n    }\n</style>\n<table border=\"1\" class=\"dataframe\">\n  <thead>\n    <tr style=\"text-align: right;\">\n      <th></th>\n      <th>Title</th>\n      <th>Platform</th>\n      <th>Userscore</th>\n      <th>Comment</th>\n    </tr>\n  </thead>\n  <tbody>\n    <tr>\n      <th>0</th>\n      <td>The Legend of Zelda: Ocarina of Time</td>\n      <td>Nintendo64</td>\n      <td>10</td>\n      <td>Everything in OoT is so near at perfection, it...</td>\n    </tr>\n    <tr>\n      <th>1</th>\n      <td>The Legend of Zelda: Ocarina of Time</td>\n      <td>Nintendo64</td>\n      <td>10</td>\n      <td>I won't bore you with what everyone is already...</td>\n    </tr>\n    <tr>\n      <th>2</th>\n      <td>The Legend of Zelda: Ocarina of Time</td>\n      <td>Nintendo64</td>\n      <td>10</td>\n      <td>Anyone who gives the masterpiece below a 7 or ...</td>\n    </tr>\n    <tr>\n      <th>3</th>\n      <td>The Legend of Zelda: Ocarina of Time</td>\n      <td>Nintendo64</td>\n      <td>10</td>\n      <td>I'm one of those people who think that this is...</td>\n    </tr>\n    <tr>\n      <th>4</th>\n      <td>The Legend of Zelda: Ocarina of Time</td>\n      <td>Nintendo64</td>\n      <td>10</td>\n      <td>This game is the highest rated game on Metacr...</td>\n    </tr>\n  </tbody>\n</table>\n</div>"
     },
     "metadata": {},
     "execution_count": 15
    }
   ],
   "source": [
    "#Remove the Username column \n",
    "step_one = review_df.drop(columns=[\"Username\", \"Unnamed: 0\"], axis=1)\n",
    "step_one.head()"
   ]
  },
  {
   "source": [
    "### The next step is to shorten the dataframe so that only the platforms that are important to us are extracted "
   ],
   "cell_type": "markdown",
   "metadata": {}
  },
  {
   "source": [
    "### Unlike the other dataframes, we will create 5 new dataframes from the original. One dataframe for each platform"
   ],
   "cell_type": "markdown",
   "metadata": {}
  },
  {
   "cell_type": "code",
   "execution_count": 58,
   "metadata": {},
   "outputs": [],
   "source": [
    "#Extract the 5 dataframes, one for each Platform of interest\n",
    "XB1 = step_one.loc[step_one[\"Platform\"].isin([\"XboxOne\"]), :]\n",
    "PS4 = step_one.loc[step_one[\"Platform\"].isin([\"PlayStation4\"]), :]\n",
    "WiiU = step_one.loc[step_one[\"Platform\"].isin([\"WiiU\"]), :]\n",
    "PSV = step_one.loc[step_one[\"Platform\"].isin([\"PlayStationVita\"]), :]\n",
    "PC = step_one.loc[step_one[\"Platform\"].isin([\"PC\"]), :]"
   ]
  },
  {
   "cell_type": "code",
   "execution_count": 89,
   "metadata": {},
   "outputs": [],
   "source": [
    "#Select 50 random reviews from the dataframes using \"df.sample()\"\n",
    "PC = PC.sample(n=50, random_state=1)\n",
    "XB1 = XB1.sample(n=50, random_state=1)\n",
    "PS4 = PS4.sample(n=50, random_state=1)\n",
    "PSV = PSV.sample(n=50, random_state=1)\n",
    "WiiU = WiiU.sample(n=50, random_state=1)"
   ]
  },
  {
   "source": [
    "### random_state=1 is used so that the results can be moderated when it comes to placing the information within an AI/ML model. Without this, the random results would always be different when called upon, making analysis for the AI/ML model difficult and unreliable "
   ],
   "cell_type": "markdown",
   "metadata": {}
  },
  {
   "source": [
    "### We can now export this data as a csv to add to a SQL database"
   ],
   "cell_type": "markdown",
   "metadata": {}
  },
  {
   "cell_type": "code",
   "execution_count": 90,
   "metadata": {},
   "outputs": [],
   "source": [
    "#Export the dataframes into the reviews folder in the cleaned data folder \n",
    "PC.to_csv(\"../cleaned_data/reviews/pc.csv\", index=False)\n",
    "PSV.to_csv(\"../cleaned_data/reviews/psv.csv\", index=False)\n",
    "PS4.to_csv(\"../cleaned_data/reviews/ps4.csv\", index=False)\n",
    "WiiU.to_csv(\"../cleaned_data/reviews/wiiu.csv\", index=False)\n",
    "XB1.to_csv(\"../cleaned_data/reviews/xb1.csv\", index=False)"
   ]
  }
 ]
}